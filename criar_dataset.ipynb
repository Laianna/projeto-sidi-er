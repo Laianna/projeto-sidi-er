{
 "cells": [
  {
   "cell_type": "markdown",
   "metadata": {},
   "source": [
    "# Bibliotecas"
   ]
  },
  {
   "cell_type": "code",
   "execution_count": 45,
   "metadata": {},
   "outputs": [],
   "source": [
    "import pandas as pd\n",
    "pd.set_option('display.max_colwidth', None)"
   ]
  },
  {
   "cell_type": "markdown",
   "metadata": {},
   "source": [
    "# Constantes"
   ]
  },
  {
   "cell_type": "code",
   "execution_count": 46,
   "metadata": {},
   "outputs": [],
   "source": [
    "NUM_AMOSTRAS = 280\n",
    "DIRETORIO = \"Dados/Datasets/\"\n",
    "\n",
    "lista_nomes = [\"celulares\", \"notebooks\", \"geladeiras\", \"fogoes\", \"tvs\"]"
   ]
  },
  {
   "cell_type": "markdown",
   "metadata": {},
   "source": [
    "# Amostra"
   ]
  },
  {
   "cell_type": "markdown",
   "metadata": {},
   "source": [
    "Tirando uma amostra dos dados para poder fazer a verificação dos produtos"
   ]
  },
  {
   "cell_type": "code",
   "execution_count": null,
   "metadata": {},
   "outputs": [],
   "source": [
    "lista_df = []\n",
    "for nome in lista_nomes:\n",
    "    \n",
    "    df = pd.read_csv(f\"Dados/Pares/pares_{nome}.csv\")\n",
    "    lista_df.append(df)"
   ]
  },
  {
   "cell_type": "code",
   "execution_count": null,
   "metadata": {},
   "outputs": [],
   "source": [
    "for i in range(0, len(lista_nomes)):\n",
    "    df = lista_df[i][[\"titulo_1\", \"titulo_2\", \"url_1\", \"url_2\"]].sample(frac=0.3)\n",
    "    df.to_csv(f\"amostra_{lista_nomes[i]}.csv\")"
   ]
  },
  {
   "cell_type": "markdown",
   "metadata": {},
   "source": [
    "# Montando os Datasets"
   ]
  },
  {
   "cell_type": "markdown",
   "metadata": {},
   "source": [
    "Datasets que vamos montar:\n",
    "\n",
    "    1. Hard negative dataset (não matches apenas na mesma categoria)\n",
    "        - Balanceando categorias\n",
    "        - Desbalanceando categorias\n",
    "\n",
    "    2. Soft negative dataset (não matches entre categorias)\n",
    "        - Balanceando categorias\n",
    "        - Desbalanceando categorias"
   ]
  },
  {
   "cell_type": "code",
   "execution_count": 49,
   "metadata": {},
   "outputs": [],
   "source": [
    "def salvar_arquivo(df, nome):\n",
    "    df.to_csv(f\"{DIRETORIO}{nome}.csv\", index = False)"
   ]
  },
  {
   "cell_type": "code",
   "execution_count": 50,
   "metadata": {},
   "outputs": [],
   "source": [
    "def embaralhar(df):\n",
    "    \n",
    "    df = df.sample(frac = 1)\n",
    "    \n",
    "    return df"
   ]
  },
  {
   "cell_type": "code",
   "execution_count": 51,
   "metadata": {},
   "outputs": [],
   "source": [
    "def criar_dataset(lista_df, nome):\n",
    "    \n",
    "    df = pd.concat(lista_df, ignore_index = True)\n",
    "    \n",
    "    df = embaralhar(df)\n",
    "    \n",
    "    salvar_arquivo(df, nome)"
   ]
  },
  {
   "cell_type": "markdown",
   "metadata": {},
   "source": [
    "## Hard Negative"
   ]
  },
  {
   "cell_type": "markdown",
   "metadata": {},
   "source": [
    "### Desbalanceado"
   ]
  },
  {
   "cell_type": "code",
   "execution_count": 52,
   "metadata": {},
   "outputs": [],
   "source": [
    "lista_df = []\n",
    "for nome in lista_nomes:\n",
    "    \n",
    "    df = pd.read_csv(f\"Dados/Total Pares/total_pares_{nome}.csv\")\n",
    "    lista_df.append(df)"
   ]
  },
  {
   "cell_type": "code",
   "execution_count": 53,
   "metadata": {},
   "outputs": [],
   "source": [
    "criar_dataset(lista_df, \"hn_desbalanceado\")"
   ]
  },
  {
   "cell_type": "markdown",
   "metadata": {},
   "source": [
    "### Balanceado"
   ]
  },
  {
   "cell_type": "code",
   "execution_count": null,
   "metadata": {},
   "outputs": [],
   "source": [
    "lista_df = []\n",
    "for nome in lista_nomes:\n",
    "    \n",
    "    df_p = pd.read_csv(f\"Dados/Pares/pares_{nome}.csv\").sample(n = NUM_AMOSTRAS)\n",
    "    df_np = pd.read_csv(f\"Dados/Não Pares/nao_pares_{nome}.csv\").sample(n = NUM_AMOSTRAS*5)\n",
    "    \n",
    "    lista_df.append(df_p)\n",
    "    lista_df.append(df_np)"
   ]
  },
  {
   "cell_type": "code",
   "execution_count": null,
   "metadata": {},
   "outputs": [],
   "source": [
    "criar_dataset(lista_df, \"hn_balanceado\")"
   ]
  },
  {
   "cell_type": "markdown",
   "metadata": {},
   "source": [
    "## Soft Negative"
   ]
  },
  {
   "cell_type": "markdown",
   "metadata": {},
   "source": [
    "### Desbalanceado"
   ]
  },
  {
   "cell_type": "code",
   "execution_count": null,
   "metadata": {},
   "outputs": [],
   "source": [
    "lista_df = []\n",
    "for nome in lista_nomes:\n",
    "    \n",
    "    df = pd.read_csv(f\"Dados/Pares/pares_{nome}.csv\")\n",
    "    lista_df.append(df)\n",
    "    \n",
    "df = pd.read_csv(f\"Dados/Não Pares/nao_pares_pp_desbalanceado.csv\")\n",
    "lista_df.append(df)"
   ]
  },
  {
   "cell_type": "code",
   "execution_count": null,
   "metadata": {},
   "outputs": [],
   "source": [
    "criar_dataset(lista_df, \"sn_desbalanceado\")"
   ]
  },
  {
   "cell_type": "markdown",
   "metadata": {},
   "source": [
    "### Balanceado"
   ]
  },
  {
   "cell_type": "code",
   "execution_count": null,
   "metadata": {},
   "outputs": [],
   "source": [
    "lista_df = []\n",
    "for nome in lista_nomes:\n",
    "    \n",
    "    df = pd.read_csv(f\"Dados/Pares/pares_{nome}.csv\").sample(n = NUM_AMOSTRAS)\n",
    "    lista_df.append(df)\n",
    "    \n",
    "df = pd.read_csv(f\"Dados/Não Pares/nao_pares_pp_balanceado.csv\").sample(n = NUM_AMOSTRAS*5*5)\n",
    "lista_df.append(df)"
   ]
  },
  {
   "cell_type": "code",
   "execution_count": null,
   "metadata": {},
   "outputs": [],
   "source": [
    "criar_dataset(lista_df, \"sn_balanceado\")"
   ]
  },
  {
   "cell_type": "markdown",
   "metadata": {},
   "source": [
    "# Lendo Datasets"
   ]
  },
  {
   "cell_type": "code",
   "execution_count": 47,
   "metadata": {},
   "outputs": [],
   "source": [
    "df_hnb = pd.read_csv(f\"Dados/Datasets/hn_balanceado.csv\")\n",
    "df_hnd = pd.read_csv(f\"Dados/Datasets/hn_desbalanceado.csv\")\n",
    "df_snb = pd.read_csv(f\"Dados/Datasets/sn_balanceado.csv\")\n",
    "df_snd = pd.read_csv(f\"Dados/Datasets/sn_desbalanceado.csv\")"
   ]
  },
  {
   "cell_type": "code",
   "execution_count": 48,
   "metadata": {},
   "outputs": [
    {
     "name": "stdout",
     "output_type": "stream",
     "text": [
      "Tamanho dos Datasets:\n",
      "\n",
      "\t\t| Hard\t| Soft\t|\n",
      "Balanceado\t| 8400\t| 8400\t|\n",
      "Desbalanceado\t| 13290\t| 13290\t|\n"
     ]
    }
   ],
   "source": [
    "print(f\"Tamanho dos Datasets:\\n\\n\\t\\t| Hard\\t| Soft\\t|\\nBalanceado\\t| {df_hnb.shape[0]}\\t| {df_snb.shape[0]}\\t|\\nDesbalanceado\\t| {df_hnd.shape[0]}\\t| {df_snd.shape[0]}\\t|\")"
   ]
  }
 ],
 "metadata": {
  "interpreter": {
   "hash": "0e14b8098f6196d8118101009715d93d14008b23b93168ee0c81afdd6f893da8"
  },
  "kernelspec": {
   "display_name": "Python 3.9.7 ('base')",
   "language": "python",
   "name": "python3"
  },
  "language_info": {
   "codemirror_mode": {
    "name": "ipython",
    "version": 3
   },
   "file_extension": ".py",
   "mimetype": "text/x-python",
   "name": "python",
   "nbconvert_exporter": "python",
   "pygments_lexer": "ipython3",
   "version": "3.9.7"
  },
  "orig_nbformat": 4
 },
 "nbformat": 4,
 "nbformat_minor": 2
}

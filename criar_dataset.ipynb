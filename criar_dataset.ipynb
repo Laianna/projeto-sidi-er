{
 "cells": [
  {
   "cell_type": "code",
   "execution_count": 1,
   "metadata": {},
   "outputs": [],
   "source": [
    "import pandas as pd\n",
    "pd.set_option('display.max_colwidth', None)"
   ]
  },
  {
   "cell_type": "code",
   "execution_count": 25,
   "metadata": {},
   "outputs": [],
   "source": [
    "NUM_AMOSTRAS = 280"
   ]
  },
  {
   "cell_type": "code",
   "execution_count": 11,
   "metadata": {},
   "outputs": [],
   "source": [
    "lista_nomes = [\"celulares\", \"notebooks\", \"geladeiras\", \"fogoes\", \"tvs\"]"
   ]
  },
  {
   "cell_type": "markdown",
   "metadata": {},
   "source": [
    "# Pareamento"
   ]
  },
  {
   "cell_type": "markdown",
   "metadata": {},
   "source": [
    "Datasets que vamos montar:\n",
    "1. Hard negative dataset (Do jeito q ja montamos, seria so juntar)\n",
    "    1. Balanceando categorias\n",
    "    2. Desbalanceando categorias\n",
    "\n",
    "\n",
    "2. Nao matches entre categorias\n",
    "    1. Balanceando categorias\n",
    "    2. Desbalanceando categorias\n",
    "\n"
   ]
  },
  {
   "cell_type": "code",
   "execution_count": null,
   "metadata": {},
   "outputs": [],
   "source": [
    "lista_df = []\n",
    "for nome in lista_nomes:\n",
    "    \n",
    "    df = pd.read_csv(f\"Dados/Pares/pares_{nome}.csv\")\n",
    "    lista_df.append(df)"
   ]
  },
  {
   "cell_type": "code",
   "execution_count": 51,
   "metadata": {},
   "outputs": [
    {
     "name": "stdout",
     "output_type": "stream",
     "text": [
      "ok\n"
     ]
    }
   ],
   "source": [
    "for i in range(0, len(lista_nomes)):\n",
    "    df = lista_df[i][[\"titulo_1\", \"titulo_2\", \"url_1\", \"url_2\"]].sample(frac=0.3)\n",
    "    df.to_csv(f\"amostra_{lista_nomes[i]}.csv\")"
   ]
  },
  {
   "cell_type": "markdown",
   "metadata": {},
   "source": [
    "# Montando os Datasets"
   ]
  },
  {
   "cell_type": "markdown",
   "metadata": {},
   "source": [
    "## Hard Negative"
   ]
  },
  {
   "cell_type": "markdown",
   "metadata": {},
   "source": [
    "### Desbalanceado"
   ]
  },
  {
   "cell_type": "code",
   "execution_count": 19,
   "metadata": {},
   "outputs": [],
   "source": [
    "lista_df = []\n",
    "for nome in lista_nomes:\n",
    "    \n",
    "    df = pd.read_csv(f\"Dados/Total Pares/total_pares_{nome}.csv\")\n",
    "    lista_df.append(df)"
   ]
  },
  {
   "cell_type": "code",
   "execution_count": 20,
   "metadata": {},
   "outputs": [],
   "source": [
    "df_final = pd.concat(lista_df, ignore_index = True)"
   ]
  },
  {
   "cell_type": "code",
   "execution_count": 21,
   "metadata": {},
   "outputs": [],
   "source": [
    "df_shuffle = df_final.sample(frac = 1)\n",
    "df_shuffle.shape"
   ]
  },
  {
   "cell_type": "code",
   "execution_count": 24,
   "metadata": {},
   "outputs": [],
   "source": [
    "df_shuffle.to_csv(f\"Dados/Datasets/hn_desbalanceado.csv\", index = False)"
   ]
  },
  {
   "cell_type": "markdown",
   "metadata": {},
   "source": [
    "### Balanceado"
   ]
  },
  {
   "cell_type": "code",
   "execution_count": 33,
   "metadata": {},
   "outputs": [],
   "source": [
    "lista_df = []\n",
    "for nome in lista_nomes:\n",
    "    \n",
    "    df_p = pd.read_csv(f\"Dados/Pares/pares_{nome}.csv\").sample(n = NUM_AMOSTRAS)\n",
    "    df_np = pd.read_csv(f\"Dados/Não Pares/nao_pares_{nome}.csv\").sample(n = NUM_AMOSTRAS*5)\n",
    "    \n",
    "    lista_df.append(df_p)\n",
    "    lista_df.append(df_np)"
   ]
  },
  {
   "cell_type": "code",
   "execution_count": 45,
   "metadata": {},
   "outputs": [],
   "source": [
    "df_final = pd.concat(lista_df, ignore_index = True)"
   ]
  },
  {
   "cell_type": "code",
   "execution_count": 46,
   "metadata": {},
   "outputs": [
    {
     "data": {
      "text/plain": [
       "(8400, 13)"
      ]
     },
     "execution_count": 46,
     "metadata": {},
     "output_type": "execute_result"
    }
   ],
   "source": [
    "df_shuffle = df_final.sample(frac = 1)\n",
    "df_shuffle.shape"
   ]
  },
  {
   "cell_type": "code",
   "execution_count": 47,
   "metadata": {},
   "outputs": [],
   "source": [
    "df_shuffle.to_csv(f\"Dados/Datasets/hn_balanceado.csv\", index = False)"
   ]
  },
  {
   "cell_type": "markdown",
   "metadata": {},
   "source": [
    "## Soft Negative"
   ]
  },
  {
   "cell_type": "markdown",
   "metadata": {},
   "source": [
    "### Desbalanceado"
   ]
  },
  {
   "cell_type": "code",
   "execution_count": 49,
   "metadata": {},
   "outputs": [],
   "source": [
    "lista_df = []\n",
    "for nome in lista_nomes:\n",
    "    \n",
    "    df = pd.read_csv(f\"Dados/Pares/pares_{nome}.csv\")\n",
    "    lista_df.append(df)\n",
    "    \n",
    "df = pd.read_csv(f\"Dados/Não Pares/nao_pares_pp_desbalanceado.csv\")\n",
    "lista_df.append(df)"
   ]
  },
  {
   "cell_type": "code",
   "execution_count": 50,
   "metadata": {},
   "outputs": [],
   "source": [
    "df_final = pd.concat(lista_df, ignore_index = True)"
   ]
  },
  {
   "cell_type": "code",
   "execution_count": 51,
   "metadata": {},
   "outputs": [
    {
     "data": {
      "text/plain": [
       "(13290, 13)"
      ]
     },
     "execution_count": 51,
     "metadata": {},
     "output_type": "execute_result"
    }
   ],
   "source": [
    "df_shuffle = df_final.sample(frac = 1)\n",
    "df_shuffle.shape"
   ]
  },
  {
   "cell_type": "code",
   "execution_count": 52,
   "metadata": {},
   "outputs": [],
   "source": [
    "df_shuffle.to_csv(f\"Dados/Datasets/sn_desbalanceado.csv\", index = False)"
   ]
  },
  {
   "cell_type": "markdown",
   "metadata": {},
   "source": [
    "### Balanceado"
   ]
  },
  {
   "cell_type": "code",
   "execution_count": 68,
   "metadata": {},
   "outputs": [],
   "source": [
    "lista_df = []\n",
    "for nome in lista_nomes:\n",
    "    \n",
    "    df = pd.read_csv(f\"Dados/Pares/pares_{nome}.csv\").sample(n = NUM_AMOSTRAS)\n",
    "    lista_df.append(df)\n",
    "    \n",
    "df = pd.read_csv(f\"Dados/Não Pares/nao_pares_pp_balanceado.csv\").sample(n = NUM_AMOSTRAS*5*5)\n",
    "lista_df.append(df)"
   ]
  },
  {
   "cell_type": "code",
   "execution_count": 69,
   "metadata": {},
   "outputs": [],
   "source": [
    "df_final = pd.concat(lista_df, ignore_index = True)"
   ]
  },
  {
   "cell_type": "code",
   "execution_count": 70,
   "metadata": {},
   "outputs": [
    {
     "data": {
      "text/plain": [
       "(8400, 13)"
      ]
     },
     "execution_count": 70,
     "metadata": {},
     "output_type": "execute_result"
    }
   ],
   "source": [
    "df_shuffle = df_final.sample(frac = 1)\n",
    "df_shuffle.shape"
   ]
  },
  {
   "cell_type": "code",
   "execution_count": 71,
   "metadata": {},
   "outputs": [],
   "source": [
    "df_shuffle.to_csv(f\"Dados/Datasets/sn_balanceado.csv\", index = False)"
   ]
  },
  {
   "cell_type": "markdown",
   "metadata": {},
   "source": [
    "# Lendo Datasets"
   ]
  },
  {
   "cell_type": "code",
   "execution_count": 72,
   "metadata": {},
   "outputs": [],
   "source": [
    "df_hnb = pd.read_csv(f\"Dados/Datasets/hn_balanceado.csv\")\n",
    "df_hnd = pd.read_csv(f\"Dados/Datasets/hn_desbalanceado.csv\")\n",
    "df_snb = pd.read_csv(f\"Dados/Datasets/sn_balanceado.csv\")\n",
    "df_snd = pd.read_csv(f\"Dados/Datasets/sn_desbalanceado.csv\")"
   ]
  },
  {
   "cell_type": "code",
   "execution_count": 73,
   "metadata": {},
   "outputs": [
    {
     "data": {
      "text/plain": [
       "(8400, 13)"
      ]
     },
     "execution_count": 73,
     "metadata": {},
     "output_type": "execute_result"
    }
   ],
   "source": [
    "df_hnb.shape"
   ]
  },
  {
   "cell_type": "code",
   "execution_count": 74,
   "metadata": {},
   "outputs": [
    {
     "data": {
      "text/plain": [
       "(8400, 13)"
      ]
     },
     "execution_count": 74,
     "metadata": {},
     "output_type": "execute_result"
    }
   ],
   "source": [
    "df_snb.shape"
   ]
  },
  {
   "cell_type": "code",
   "execution_count": 76,
   "metadata": {},
   "outputs": [
    {
     "data": {
      "text/plain": [
       "(13290, 13)"
      ]
     },
     "execution_count": 76,
     "metadata": {},
     "output_type": "execute_result"
    }
   ],
   "source": [
    "df_hnd.shape"
   ]
  },
  {
   "cell_type": "code",
   "execution_count": 77,
   "metadata": {},
   "outputs": [
    {
     "data": {
      "text/plain": [
       "(13290, 13)"
      ]
     },
     "execution_count": 77,
     "metadata": {},
     "output_type": "execute_result"
    }
   ],
   "source": [
    "df_snd.shape"
   ]
  }
 ],
 "metadata": {
  "interpreter": {
   "hash": "0e14b8098f6196d8118101009715d93d14008b23b93168ee0c81afdd6f893da8"
  },
  "kernelspec": {
   "display_name": "Python 3.9.7 ('base')",
   "language": "python",
   "name": "python3"
  },
  "language_info": {
   "codemirror_mode": {
    "name": "ipython",
    "version": 3
   },
   "file_extension": ".py",
   "mimetype": "text/x-python",
   "name": "python",
   "nbconvert_exporter": "python",
   "pygments_lexer": "ipython3",
   "version": "3.9.7"
  },
  "orig_nbformat": 4
 },
 "nbformat": 4,
 "nbformat_minor": 2
}

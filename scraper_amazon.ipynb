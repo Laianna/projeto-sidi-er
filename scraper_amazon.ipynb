{
 "cells": [
  {
   "cell_type": "markdown",
   "metadata": {},
   "source": [
    "# Projeto SiDi - Resolução de Entidade\n",
    "\n",
    "## Scraper"
   ]
  },
  {
   "cell_type": "code",
   "execution_count": 1,
   "metadata": {},
   "outputs": [],
   "source": [
    "import requests\n",
    "import pandas as pd\n",
    "import re\n",
    "import time\n",
    "\n",
    "from bs4 import BeautifulSoup"
   ]
  },
  {
   "cell_type": "code",
   "execution_count": 2,
   "metadata": {},
   "outputs": [],
   "source": [
    "HEADERS = ({'User-Agent':\n",
    "            'Mozilla/5.0 (Windows NT 10.0; Win64; x64) \\\n",
    "            AppleWebKit/537.36 (KHTML, like Gecko) \\\n",
    "            Chrome/90.0.4430.212 Safari/537.36',\n",
    "            #'Accept-Language': 'en-US, en;q=0.5',\n",
    "            \"Accept-Encoding\":\"gzip, deflate\",\n",
    "            \"Accept\":\"text/html,application/xhtml+xml,application/xml;q=0.9,*/*;q=0.8\",\n",
    "            \"DNT\":\"1\",\"Connection\":\"close\",\n",
    "            \"Upgrade-Insecure-Requests\":\"1\"})\n",
    "\n",
    "COOKIES = {'i18n-prefs': \"BRL\",\n",
    "           'session-id': \"147-4481349-3776115\",\n",
    "           'session-id-time': \"2082758401l\",\n",
    "           'session-token': \"Z6ZJVobSCATkyNn1g8kPOtbqWGyda/cvfli854KW3r8ywSWxPTbbMDNsGEUQsqEO3WZtuwGPS9A10PxeR9gVF0rFIGj2f0dnoJ7flEKVDce9nJcIbldcT2P2BZlkPBIKr+YEP2ErDo8NSmXjvOIrT2PeUH5op46fQR9EGQsrBrM38pnVw74esum4cEdTpTNgPjBQ4Uw939qsJJjs8V+mAw==\",\n",
    "           'ubid-acbbr': \"133-1643912-7168465\",\n",
    "           'csm-hit': \"tb:QTSKC9XAV6CW3SJ7NA4T+s-QTSKC9XAV6CW3SJ7NA4T|1651786046763&t:1651786046763&adb:adblk_yes\"\n",
    "           }\n",
    "\n",
    "def getdata(url):\n",
    "    r = requests.get(url, headers = HEADERS, cookies = COOKIES)\n",
    "    return r.text\n",
    "\n",
    "def html_code(url):\n",
    "  \n",
    "    # pass the url\n",
    "    # into getdata function\n",
    "    htmldata = getdata(url)\n",
    "    soup = BeautifulSoup(htmldata, 'html.parser')\n",
    "  \n",
    "    # display html code\n",
    "    return (soup)"
   ]
  },
  {
   "cell_type": "code",
   "execution_count": 19,
   "metadata": {},
   "outputs": [],
   "source": [
    "links = []\n",
    "for paginacao in range(1, 22):\n",
    "\n",
    "    url = f\"https://www.amazon.com.br/s?k=Geladeiras+e+Freezers&i=appliances&rh=n%3A16745366011&page={paginacao}&c=ts&qid=1653499972&ts_id=16745366011&ref=sr_pg_{paginacao}\"\n",
    "    #url = f\"https://www.amazon.com.br/s?i=computers&bbn=16339927011&rh=n%3A16339926011%2Cn%3A16364755011&dc&fs=true&page={paginacao}&qid=1652985093&rnid=16339927011&ref=sr_pg_{paginacao}\" #notebooks\n",
    "    #url = f\"https://www.amazon.com.br/s?i=electronics&rh=n%3A16243890011&s=price-desc-rank&fs=true&page={paginacao}&qid=1651783337&ref=sr_pg_{paginacao}\" #celulares\n",
    "    soup = html_code(url)\n",
    "\n",
    "    #lista_divs = soup.find_all(\"div\", {\"class\": \"a-section a-spacing-none a-spacing-top-small s-title-instructions-style\"})\n",
    "    lista_divs = soup.find_all(\"div\", {\"class\": \"a-section a-spacing-base\"})\n",
    "\n",
    "    for div in lista_divs:\n",
    "        for link in div.findAll('a', attrs={'href': re.compile(\"^/\")}):\n",
    "            links.append(f\"https://www.amazon.com.br{link.get('href')}\")\n",
    "            \n",
    "links = list(set(links))"
   ]
  },
  {
   "cell_type": "code",
   "execution_count": 20,
   "metadata": {},
   "outputs": [
    {
     "data": {
      "text/plain": [
       "262"
      ]
     },
     "execution_count": 20,
     "metadata": {},
     "output_type": "execute_result"
    }
   ],
   "source": [
    "len(links)"
   ]
  },
  {
   "cell_type": "code",
   "execution_count": 21,
   "metadata": {},
   "outputs": [],
   "source": [
    "df = pd.DataFrame(links, columns = ['links'])\n",
    "df.to_csv('Dados/Links/amazon_links_geladeiras_6.csv', index = False)"
   ]
  },
  {
   "cell_type": "code",
   "execution_count": 209,
   "metadata": {},
   "outputs": [],
   "source": [
    "df_links = pd.read_csv('Dados/amazon_links.csv')"
   ]
  },
  {
   "cell_type": "code",
   "execution_count": 210,
   "metadata": {},
   "outputs": [],
   "source": [
    "lista_produtos = []\n",
    "for i, url in enumerate(df_links['links']):\n",
    "    \n",
    "    for j in range(10):\n",
    "        \n",
    "        soup = html_code(url)\n",
    "    \n",
    "        titulo = soup.find(\"span\", {\"class\": \"a-size-large product-title-word-break\"})\n",
    "        if titulo is not None:\n",
    "            titulo = titulo.text.strip()    \n",
    "        \n",
    "            tabela = soup.find(\"table\", {\"class\": \"a-keyvalue prodDetTable\"})\n",
    "            ean = re.findall(r'EAN <\\/th> <td class=\"a-size-base prodDetAttrValue\">\\n                \\u200e([0-9]+)|$', str(tabela))[0]\n",
    "            lista_produtos.append((url, titulo, ean))\n",
    "            \n",
    "            break\n",
    "        \n",
    "        time.sleep(10)"
   ]
  },
  {
   "cell_type": "code",
   "execution_count": 212,
   "metadata": {},
   "outputs": [],
   "source": [
    "df_produtos = pd.DataFrame(lista_produtos, columns = ['url', 'titulo', 'ean'])"
   ]
  },
  {
   "cell_type": "code",
   "execution_count": 213,
   "metadata": {},
   "outputs": [],
   "source": [
    "df_produtos['titulo'] = df_produtos['titulo'].astype('string')\n",
    "df_produtos['ean'] = df_produtos['ean'].astype('string')"
   ]
  },
  {
   "cell_type": "code",
   "execution_count": 215,
   "metadata": {},
   "outputs": [],
   "source": [
    "df_produtos.to_csv(\"Dados/produtos_amazon.csv\", index = False)"
   ]
  }
 ],
 "metadata": {
  "interpreter": {
   "hash": "0e14b8098f6196d8118101009715d93d14008b23b93168ee0c81afdd6f893da8"
  },
  "kernelspec": {
   "display_name": "Python 3.9.7 ('base')",
   "language": "python",
   "name": "python3"
  },
  "language_info": {
   "codemirror_mode": {
    "name": "ipython",
    "version": 3
   },
   "file_extension": ".py",
   "mimetype": "text/x-python",
   "name": "python",
   "nbconvert_exporter": "python",
   "pygments_lexer": "ipython3",
   "version": "3.9.7"
  },
  "orig_nbformat": 4
 },
 "nbformat": 4,
 "nbformat_minor": 2
}

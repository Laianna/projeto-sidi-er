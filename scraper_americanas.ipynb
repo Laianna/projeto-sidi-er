{
 "cells": [
  {
   "cell_type": "markdown",
   "metadata": {},
   "source": [
    "# Projeto SiDi - Resolução de Entidade\n",
    "\n",
    "## Scraper"
   ]
  },
  {
   "cell_type": "code",
   "execution_count": 1,
   "metadata": {},
   "outputs": [],
   "source": [
    "import requests\n",
    "import pandas as pd\n",
    "import re\n",
    "import time\n",
    "\n",
    "from bs4 import BeautifulSoup"
   ]
  },
  {
   "cell_type": "code",
   "execution_count": 2,
   "metadata": {},
   "outputs": [],
   "source": [
    "HEADERS = ({'User-Agent':\n",
    "            'Mozilla/5.0 (Windows NT 10.0; Win64; x64) \\\n",
    "            AppleWebKit/537.36 (KHTML, like Gecko) \\\n",
    "            Chrome/90.0.4430.212 Safari/537.36',\n",
    "            #'Accept-Language': 'en-US, en;q=0.5',\n",
    "            \"Accept-Encoding\":\"gzip, deflate\",\n",
    "            \"Accept\":\"text/html,application/xhtml+xml,application/xml;q=0.9,*/*;q=0.8\",\n",
    "            \"DNT\":\"1\",\"Connection\":\"close\",\n",
    "            \"Upgrade-Insecure-Requests\":\"1\"})\n",
    "\n",
    "COOKIES = {'B2W-IU': \"false\",\n",
    "           'B2W-PID': \"1651847762544.0.6337384078925419\",\n",
    "           'B2W-SID': \"1651847762544.0.8031766302150463\",\n",
    "           'B2W-UID': \"va_1651847762544.0.9073112643781021\",\n",
    "           'MobileOptOut': \"1\",\n",
    "           '_ga': \"GA1.3.1637195159.1651847785\",\n",
    "           '_ga_DFEPZNP57H': \"GS1.1.1651847785.1.0.1651847785.60\",\n",
    "           '_gat_UA-97626372-1': \"1\",\n",
    "           '_gcl_au': \"1.1.451393762.1651847784\",\n",
    "           '_gid': \"GA1.3.361546463.1651847785\",\n",
    "           '_hjAbsoluteSessionInProgress': \"0\",\n",
    "           '_hjFirstSeen': \"1\",\n",
    "           \n",
    "           '_hjSessionUser_369648': \"eyJpZCI6ImM2ZjljM2ZjLTJlOTgtNWY2MC1iZjRmLWZmMTQxMmEzNWI2OSIsImNyZWF0ZWQiOjE2NTE4NDc3ODQ4OTcsImV4aXN0aW5nIjpmYWxzZX0=\",\n",
    "           '_hjSession_369648': \"eyJpZCI6Ijk2MjFkZmY3LTVmNTMtNDcxMy05Njc0LTc3OTA4MDY1YTFiMyIsImNyZWF0ZWQiOjE2NTE4NDc3ODQ5NTcsImluU2FtcGxlIjpmYWxzZX0=\",\n",
    "           '_px3': \"da8aa9ea63f35fac0bdab39fc1f40d45e38f5678636016ac51f3b1a656315a0b:0Lc40QZFtSQpz9W7F1I/FogDtHvxszj8IvJDwc7dyjK5AER4bjP3ghDRCa6OSfpqHGb5gcstwLc0ogajI/F1HA==:1000:aVSSq5lxjbkaLNKsQmRL99td5E0gVyVTaU8lQwjew94WdzlOzZB7vg3tvYcclZeDLp0T9a7OyEr7B8G/c5zlojtAbGFONbAGPL5cUYmalPDYIyU4GLmz/Arc0ba3ChF6A0GcGUVL2dQ9ciBbPAkeZeDvDPLI4SqlvNj0Diij78a5Wd2pBdWLelu7jO9CZqROEhnIemW6Iu1kEcSCeRhw7A==\",\n",
    "           '_px_f394gi7Fvmc43dfg_user_id': \"ZDkyYzA0NTAtY2Q0OS0xMWVjLTkwZmItMDNjYzg0NWVjZmY1\",\n",
    "           '_px_uAB': \"MTI4OTV8dHJ1ZQ==\",\n",
    "           '_pxvid': \"daaf393c-cd49-11ec-a5d6-67456e515a65\",\n",
    "           'ak_bmsc': \"40B3B868037F4C347D89BA771D5073A5~000000000000000000000000000000~YAAQXzm5s2B3F46AAQAAxO7MmQ94ARRFG/zMMsKvIx43W0tE7J+iakJaILDi+h8qdG4wwYz4WExCbYehBLvIX4OWei4Y4WqfGSenwj/9hfNkYTNNTWxRb+y6dqqPMSJQ7nJO1ctWCRMBEX6pOsqOYzpssg5ZYODAwlbxZGfBKbq6Dv8pH9yvCDmkYnC/rcHww7CcokDLyx1fep77Jfo/GUoGXOabpmC3/324vFgArboJULzI8k8aad3/tnq0zcruWWDT1oEAgJihWK0cCPwv6ybgJP9XoAWMBLffJPHk7HEKNMEnoKzGfezJbwWsrJun3J+0JD8QY7kHDGRBY3h+C/kYn5h5nn1z3ZREyx8YaJ0wbHXacZ/Nn5/qWUIfoh4tpcIgrxAFr0mT/mvqTZU1Z+7t5qAzlvLFI13Rtqzsmfna/3CvXwyGtYfPaQK4vUZU6yT82BeB\",\n",
    "           'b2wChannel': \"ACOM\",\n",
    "           'b2wDevice': \"eyJvcyI6IldpbmRvd3MgTlQiLCJvc1ZlcnNpb24iOiIxMC4wIiwidmVuZG9yIjoiQ2hyb21lIiwidHlwZSI6ImRlc2t0b3AiLCJta3ROYW1lIjoiQ2hyb21lIDEwMSIsIm1vZGVsIjoiMTAxIiwibW9iaWxlT3B0T3V0IjoiZmFsc2UifQ==\",\n",
    "           'b2wDeviceType': \"desktop\",\n",
    "           'bm_mi': \"61BD17B1915EBB45AE6398700B7CF10D~YAAQXzm5s0B3F46AAQAAw+vMmQ8XSImDoRMc7ayQFOv+iwLyn+ksPQ9gK5o5CXSaQIep8D3CVTkzQzk5LMo7nyT2Ljt/oedmqdeOlmXrhj2REUZyjx76c+LLTs4M81eSlu2qXlW3TIUMtDhmLKzVHQEI4coQyMENdqEEgItsn/XIPi5hwpkpNSGKuTMw51wOq/zwpMgR1myvQxZsVZ1TvcBvmEJiIqhaXnI2GLUpjiCpVAQkSk9x5caNt0/LPtZhDN9mdS5VScbjVepbxcAGfe/rGCS7eplxba7ycI6/q+7u0aYsk6Y1+GZXrE303EoMK9BMHOc=~1\",\n",
    "           'bm_sv': \"F1518CEBA45B0884BC3A7B2F2140F9BE~YAAQXzm5s0F3F46AAQAAw+vMmQ8HocdUWVLnApC0dnxBmG3pYJmrMhKePDP1mtf43VC2Ak6MX9X/Gl7gw7+UjGn6e+eEkSbopaf0E77kN/5PVsfveMuUwhVEyojGF/xeiXC9hpIHptHn/lxNmyeXNaxUYhJVI1PRWH6snFvc418pHZQi84pNjvZfiNpLygnr1tHVddB9j/3wDMhGiZ7HV4ncD6YhuNxDEMrLWQrrz2m8PYpD6iDUBPYQu3kNfJcCcRSJo8ngEw==~1\",\n",
    "           \n",
    "           'catalogTestAB': \"old\",\n",
    "           'cdn-city': \"SALVADOR\",\n",
    "           'cdn-country': \"BR\",\n",
    "           'cdn-lat': \"-12.98\",\n",
    "           'cdn-long': \"-38.52\",\n",
    "           'cdn-region': \"BA\",\n",
    "           'cto_bundle': \"w80Kl8xaDkyZUElMkZaZHhNdVgxVmo3bGJjTVVQTDd5UTJhYmw1VFBpYnY4WmxnVDg5U2V6VFNJd3NtME9jVGM1SERSb0VkMyUyRmM2ZlpvYjN0MTYzUnVRa3dmeXhLendKQ1gxUHhFRkRNRGpzUlpLYW4lMkJuWVRSUGQ1ZHowMXRibUJBRG9tTFppNUt0dDlvSXNDZENiaDA2TWZCUkNFREtjdW1nQWVBOWZuMVRKS3plNnclM0Q\",\n",
    "           'legionRegion': \"929000\",\n",
    "           'macroRegion': \"NORTHEAST_CAPITAL\",\n",
    "           'mesoRegion': \"2901\",\n",
    "           'pxcts': \"daaf4897-cd49-11ec-a5d6-67456e515a65\",\n",
    "           'searchTestAB': \"out\",\n",
    "           \n",
    "           '_dd_s': \"rum=0&expire=1651848797883\"\n",
    "           }\n",
    "\n",
    "def getdata(url):\n",
    "    r = requests.get(url, headers = HEADERS, cookies = COOKIES)\n",
    "    return r.text\n",
    "\n",
    "def html_code(url):\n",
    "  \n",
    "    # pass the url\n",
    "    # into getdata function\n",
    "    htmldata = getdata(url)\n",
    "    soup = BeautifulSoup(htmldata, 'html.parser')\n",
    "  \n",
    "    # display html code\n",
    "    return (soup)"
   ]
  },
  {
   "cell_type": "code",
   "execution_count": null,
   "metadata": {},
   "outputs": [],
   "source": [
    "'''def cus_data(soup):\n",
    "    # find the Html tag\n",
    "    # with find()\n",
    "    # and convert into string\n",
    "\n",
    "    cus_list= []\n",
    "\n",
    "    for item in soup.find_all(\"div\", class_=\"a-section celwidget\"):\n",
    "        review = item.find(\"span\", class_=\"a-size-base review-text review-text-content\").get_text()\n",
    "        date = item.find(\"span\", class_=\"a-size-base a-color-secondary review-date\").get_text()\n",
    "        stars = item.find(\"span\", class_=\"a-icon-alt\").get_text()\n",
    "        \n",
    "        cus_list.append((review, stars, date))\n",
    "\n",
    "    return cus_list\n",
    "'''"
   ]
  },
  {
   "cell_type": "code",
   "execution_count": 7,
   "metadata": {},
   "outputs": [],
   "source": [
    "links = []\n",
    "for paginacao in range(1, 84):\n",
    "    \n",
    "    '''if paginacao < 43:\n",
    "        continue'''\n",
    "    \n",
    "    url = f\"https://www.americanas.com.br/categoria/informatica/notebooks?viewMode=list&limit=24&offset={paginacao*24}\"\n",
    "    #url = f\"https://www.americanas.com.br/categoria/celulares-e-smartphones/smartphone?viewMode=list&limit=24&offset={paginacao*24}\"\n",
    "    \n",
    "    soup = html_code(url)\n",
    "\n",
    "    lista_divs = soup.find_all(\"div\", {\"class\": \"src__Wrapper-sc-1wgxjb2-0 dUUAKQ\"})\n",
    "\n",
    "    for div in lista_divs:\n",
    "        for link in div.findAll('a', attrs={'href': re.compile(\"^/\")}):\n",
    "            links.append(f\"https://www.americanas.com.br{link.get('href')}\")\n",
    "                        \n",
    "links = list(set(links))"
   ]
  },
  {
   "cell_type": "code",
   "execution_count": 8,
   "metadata": {},
   "outputs": [
    {
     "data": {
      "text/plain": [
       "0"
      ]
     },
     "execution_count": 8,
     "metadata": {},
     "output_type": "execute_result"
    }
   ],
   "source": [
    "len(links)"
   ]
  },
  {
   "cell_type": "code",
   "execution_count": 6,
   "metadata": {},
   "outputs": [],
   "source": [
    "df = pd.DataFrame(links, columns = ['links'])\n",
    "df.to_csv('Dados/americanas_notebooks_links_1.csv', index = False)"
   ]
  },
  {
   "cell_type": "code",
   "execution_count": null,
   "metadata": {},
   "outputs": [],
   "source": [
    "df_links = pd.read_csv('Dados/americanas_links.csv')"
   ]
  },
  {
   "cell_type": "code",
   "execution_count": null,
   "metadata": {},
   "outputs": [],
   "source": [
    "lista_produtos = []\n",
    "for i, url in enumerate(df_links['links']):\n",
    "    \n",
    "    for j in range(10):\n",
    "        \n",
    "        soup = html_code(url)\n",
    "    \n",
    "        titulo = soup.find(\"h1\", {\"class\": \"product-title__Title-sc-1hlrxcw-0 jyetLr\"})\n",
    "        if titulo is not None:\n",
    "            titulo = titulo.text.strip()   \n",
    "            break\n",
    "            \n",
    "        time.sleep(10)\n",
    "        \n",
    "    tabela = soup.find(\"table\", {\"class\": \"src__SpecsCell-sc-70o4ee-5 gYhGqJ\"})\n",
    "    ean = re.findall(r'Código de barras</td><td class=\"spec-drawer__Text-sc-jcvy3q-5 fMwSYd\">([0-9]+)|$', str(tabela))[0]\n",
    "    \n",
    "    descricao = soup.find(\"div\", {\"class\": \"src__Description-sc-13f3i2j-2 bqnMru\"})\n",
    "    \n",
    "    if descricao is not None:\n",
    "        descricao = descricao.text.strip()\n",
    "    \n",
    "    lista_produtos.append((url, titulo, ean, descricao))\n",
    "    \n",
    "    time.sleep(10)"
   ]
  },
  {
   "cell_type": "code",
   "execution_count": null,
   "metadata": {},
   "outputs": [],
   "source": [
    "df_produtos = pd.DataFrame(lista_produtos, columns = ['url', 'titulo', 'ean', 'descricao'])"
   ]
  },
  {
   "cell_type": "code",
   "execution_count": null,
   "metadata": {},
   "outputs": [],
   "source": [
    "df_produtos['titulo'] = df_produtos['titulo'].astype('string')\n",
    "df_produtos['ean'] = df_produtos['ean'].astype('string')\n",
    "df_produtos['descricao'] = df_produtos['descricao'].astype('string')"
   ]
  },
  {
   "cell_type": "code",
   "execution_count": null,
   "metadata": {},
   "outputs": [],
   "source": [
    "df_produtos.to_csv(\"Dados/produtos_americanas.csv\", index = False)"
   ]
  }
 ],
 "metadata": {
  "interpreter": {
   "hash": "4889b298c2b41a0f37c917b2884deb5a3a36b040cfb99d0e8c1edb9e5e6fadf3"
  },
  "kernelspec": {
   "display_name": "Python 3.9.7 ('base')",
   "language": "python",
   "name": "python3"
  },
  "language_info": {
   "codemirror_mode": {
    "name": "ipython",
    "version": 3
   },
   "file_extension": ".py",
   "mimetype": "text/x-python",
   "name": "python",
   "nbconvert_exporter": "python",
   "pygments_lexer": "ipython3",
   "version": "3.9.7"
  },
  "orig_nbformat": 4
 },
 "nbformat": 4,
 "nbformat_minor": 2
}

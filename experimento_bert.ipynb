{
 "cells": [
  {
   "cell_type": "markdown",
   "metadata": {},
   "source": [
    "# Experimento com BERT"
   ]
  },
  {
   "cell_type": "code",
   "execution_count": 39,
   "metadata": {},
   "outputs": [],
   "source": [
    "import pandas as pd\n",
    "\n",
    "import tensorflow as tf\n",
    "import tensorflow_addons as tfa\n",
    "\n",
    "from tensorflow.keras.optimizers import Adam\n",
    "from tensorflow.keras.losses import SparseCategoricalCrossentropy\n",
    "from tensorflow.keras.metrics import SparseCategoricalAccuracy\n",
    "\n",
    "from transformers import BertTokenizer\n",
    "from transformers import TFBertForSequenceClassification\n",
    "\n",
    "from sklearn.model_selection import train_test_split\n",
    "from sklearn.metrics import classification_report\n",
    "from sklearn.metrics import confusion_matrix\n"
   ]
  },
  {
   "cell_type": "code",
   "execution_count": 4,
   "metadata": {},
   "outputs": [
    {
     "data": {
      "text/html": [
       "<div>\n",
       "<style scoped>\n",
       "    .dataframe tbody tr th:only-of-type {\n",
       "        vertical-align: middle;\n",
       "    }\n",
       "\n",
       "    .dataframe tbody tr th {\n",
       "        vertical-align: top;\n",
       "    }\n",
       "\n",
       "    .dataframe thead th {\n",
       "        text-align: right;\n",
       "    }\n",
       "</style>\n",
       "<table border=\"1\" class=\"dataframe\">\n",
       "  <thead>\n",
       "    <tr style=\"text-align: right;\">\n",
       "      <th></th>\n",
       "      <th>descricao_1</th>\n",
       "      <th>ean_1</th>\n",
       "      <th>titulo_1</th>\n",
       "      <th>url_1</th>\n",
       "      <th>titulo_cb_1</th>\n",
       "      <th>loja_1</th>\n",
       "      <th>descricao_2</th>\n",
       "      <th>ean_2</th>\n",
       "      <th>titulo_2</th>\n",
       "      <th>url_2</th>\n",
       "      <th>titulo_cb_2</th>\n",
       "      <th>loja_2</th>\n",
       "      <th>match</th>\n",
       "    </tr>\n",
       "  </thead>\n",
       "  <tbody>\n",
       "    <tr>\n",
       "      <th>0</th>\n",
       "      <td>O smartphone Samsung Galaxy S22 Ultra chegou p...</td>\n",
       "      <td>7892509122382</td>\n",
       "      <td>Smartphone Samsung Galaxy S22 Ultra 256GB 5G W...</td>\n",
       "      <td>https://www.americanas.com.br/produto/4645251827</td>\n",
       "      <td>smartphone samsung galaxy s22 ultra 256gb 5g w...</td>\n",
       "      <td>americanas</td>\n",
       "      <td>O Smartphone bison X10 da umidigi é ultra-resi...</td>\n",
       "      <td>6973553520636</td>\n",
       "      <td>Smartphone umidigi bison X10 Dual Sim lte 6.53...</td>\n",
       "      <td>https://www.americanas.com.br/produto/4707302977</td>\n",
       "      <td>smartphone umidigi bison x10 dual sim lte 6.53...</td>\n",
       "      <td>americanas</td>\n",
       "      <td>0</td>\n",
       "    </tr>\n",
       "    <tr>\n",
       "      <th>1</th>\n",
       "      <td>NaN</td>\n",
       "      <td>8908012587507</td>\n",
       "      <td>Smartphone Xiaomi Redmi 9 India 64GB 4GB RAM T...</td>\n",
       "      <td>https://www.amazon.com.br/Smartphone-Xiaomi-Re...</td>\n",
       "      <td>smartphone xiaomi redmi 9 india 64gb 4gb ram t...</td>\n",
       "      <td>amazon</td>\n",
       "      <td>O Moto E40 é um smartphone projetado para ofer...</td>\n",
       "      <td>7892597351367</td>\n",
       "      <td>Smartphone Motorola Moto E40 64GB 4G Wi-Fi Tel...</td>\n",
       "      <td>https://www.americanas.com.br/produto/4120059496</td>\n",
       "      <td>smartphone motorola moto e40 64gb 4g wi-fi tel...</td>\n",
       "      <td>americanas</td>\n",
       "      <td>0</td>\n",
       "    </tr>\n",
       "    <tr>\n",
       "      <th>2</th>\n",
       "      <td>Todas as informações divulgadas são de respons...</td>\n",
       "      <td>7892509117722</td>\n",
       "      <td>Smartphone Samsung Galaxy A32 128GB 4G Wi-Fi T...</td>\n",
       "      <td>https://www.americanas.com.br/produto/2969966651</td>\n",
       "      <td>smartphone samsung galaxy a32 128gb 4g wi-fi t...</td>\n",
       "      <td>americanas</td>\n",
       "      <td>NaN</td>\n",
       "      <td>7892509117722</td>\n",
       "      <td>Smartphone Samsung Galaxy A32 128GB 6.4 Octa C...</td>\n",
       "      <td>https://www.amazon.com.br/Smartphone-Samsung-G...</td>\n",
       "      <td>smartphone samsung galaxy a32 128gb 6.4 octa c...</td>\n",
       "      <td>amazon</td>\n",
       "      <td>1</td>\n",
       "    </tr>\n",
       "  </tbody>\n",
       "</table>\n",
       "</div>"
      ],
      "text/plain": [
       "                                         descricao_1          ean_1  \\\n",
       "0  O smartphone Samsung Galaxy S22 Ultra chegou p...  7892509122382   \n",
       "1                                                NaN  8908012587507   \n",
       "2  Todas as informações divulgadas são de respons...  7892509117722   \n",
       "\n",
       "                                            titulo_1  \\\n",
       "0  Smartphone Samsung Galaxy S22 Ultra 256GB 5G W...   \n",
       "1  Smartphone Xiaomi Redmi 9 India 64GB 4GB RAM T...   \n",
       "2  Smartphone Samsung Galaxy A32 128GB 4G Wi-Fi T...   \n",
       "\n",
       "                                               url_1  \\\n",
       "0   https://www.americanas.com.br/produto/4645251827   \n",
       "1  https://www.amazon.com.br/Smartphone-Xiaomi-Re...   \n",
       "2   https://www.americanas.com.br/produto/2969966651   \n",
       "\n",
       "                                         titulo_cb_1      loja_1  \\\n",
       "0  smartphone samsung galaxy s22 ultra 256gb 5g w...  americanas   \n",
       "1  smartphone xiaomi redmi 9 india 64gb 4gb ram t...      amazon   \n",
       "2  smartphone samsung galaxy a32 128gb 4g wi-fi t...  americanas   \n",
       "\n",
       "                                         descricao_2          ean_2  \\\n",
       "0  O Smartphone bison X10 da umidigi é ultra-resi...  6973553520636   \n",
       "1  O Moto E40 é um smartphone projetado para ofer...  7892597351367   \n",
       "2                                                NaN  7892509117722   \n",
       "\n",
       "                                            titulo_2  \\\n",
       "0  Smartphone umidigi bison X10 Dual Sim lte 6.53...   \n",
       "1  Smartphone Motorola Moto E40 64GB 4G Wi-Fi Tel...   \n",
       "2  Smartphone Samsung Galaxy A32 128GB 6.4 Octa C...   \n",
       "\n",
       "                                               url_2  \\\n",
       "0   https://www.americanas.com.br/produto/4707302977   \n",
       "1   https://www.americanas.com.br/produto/4120059496   \n",
       "2  https://www.amazon.com.br/Smartphone-Samsung-G...   \n",
       "\n",
       "                                         titulo_cb_2      loja_2  match  \n",
       "0  smartphone umidigi bison x10 dual sim lte 6.53...  americanas      0  \n",
       "1  smartphone motorola moto e40 64gb 4g wi-fi tel...  americanas      0  \n",
       "2  smartphone samsung galaxy a32 128gb 6.4 octa c...      amazon      1  "
      ]
     },
     "execution_count": 4,
     "metadata": {},
     "output_type": "execute_result"
    }
   ],
   "source": [
    "df = pd.read_csv(\"Dados/total_pares_smartphones.csv\", dtype = {'ean_1': str, 'ean_2': str})\n",
    "df.head(3)"
   ]
  },
  {
   "cell_type": "code",
   "execution_count": 7,
   "metadata": {},
   "outputs": [
    {
     "data": {
      "text/plain": [
       "descricao_1    object\n",
       "ean_1          object\n",
       "titulo_1       object\n",
       "url_1          object\n",
       "titulo_cb_1    object\n",
       "loja_1         object\n",
       "descricao_2    object\n",
       "ean_2          object\n",
       "titulo_2       object\n",
       "url_2          object\n",
       "titulo_cb_2    object\n",
       "loja_2         object\n",
       "match           int64\n",
       "dtype: object"
      ]
     },
     "execution_count": 7,
     "metadata": {},
     "output_type": "execute_result"
    }
   ],
   "source": [
    "df.dtypes"
   ]
  },
  {
   "cell_type": "code",
   "execution_count": 8,
   "metadata": {},
   "outputs": [
    {
     "data": {
      "text/plain": [
       "(480, 13)"
      ]
     },
     "execution_count": 8,
     "metadata": {},
     "output_type": "execute_result"
    }
   ],
   "source": [
    "df.shape"
   ]
  },
  {
   "cell_type": "code",
   "execution_count": 9,
   "metadata": {},
   "outputs": [
    {
     "data": {
      "text/html": [
       "<div>\n",
       "<style scoped>\n",
       "    .dataframe tbody tr th:only-of-type {\n",
       "        vertical-align: middle;\n",
       "    }\n",
       "\n",
       "    .dataframe tbody tr th {\n",
       "        vertical-align: top;\n",
       "    }\n",
       "\n",
       "    .dataframe thead th {\n",
       "        text-align: right;\n",
       "    }\n",
       "</style>\n",
       "<table border=\"1\" class=\"dataframe\">\n",
       "  <thead>\n",
       "    <tr style=\"text-align: right;\">\n",
       "      <th></th>\n",
       "      <th>descricao_1</th>\n",
       "      <th>ean_1</th>\n",
       "      <th>titulo_1</th>\n",
       "      <th>url_1</th>\n",
       "      <th>titulo_cb_1</th>\n",
       "      <th>loja_1</th>\n",
       "      <th>descricao_2</th>\n",
       "      <th>ean_2</th>\n",
       "      <th>titulo_2</th>\n",
       "      <th>url_2</th>\n",
       "      <th>titulo_cb_2</th>\n",
       "      <th>loja_2</th>\n",
       "      <th>match</th>\n",
       "    </tr>\n",
       "  </thead>\n",
       "  <tbody>\n",
       "    <tr>\n",
       "      <th>433</th>\n",
       "      <td>NaN</td>\n",
       "      <td>7892509120623</td>\n",
       "      <td>Smartphone Samsung Galaxy A52s 5G 128GB 6.5 6G...</td>\n",
       "      <td>https://www.amazon.com.br/Smartphone-Galaxy-A5...</td>\n",
       "      <td>smartphone samsung galaxy a52s 5g 128gb 6.5 6g...</td>\n",
       "      <td>amazon</td>\n",
       "      <td>Características: - Marca: Samsung - Modelo: A5...</td>\n",
       "      <td>7892509120623</td>\n",
       "      <td>Smartphone Samsung Galaxy A52s 5G 128GB 6.5 6G...</td>\n",
       "      <td>https://www.americanas.com.br/produto/4472100131</td>\n",
       "      <td>smartphone samsung galaxy a52s 5g 128gb 6.5 6g...</td>\n",
       "      <td>americanas</td>\n",
       "      <td>1</td>\n",
       "    </tr>\n",
       "  </tbody>\n",
       "</table>\n",
       "</div>"
      ],
      "text/plain": [
       "    descricao_1          ean_1  \\\n",
       "433         NaN  7892509120623   \n",
       "\n",
       "                                              titulo_1  \\\n",
       "433  Smartphone Samsung Galaxy A52s 5G 128GB 6.5 6G...   \n",
       "\n",
       "                                                 url_1  \\\n",
       "433  https://www.amazon.com.br/Smartphone-Galaxy-A5...   \n",
       "\n",
       "                                           titulo_cb_1  loja_1  \\\n",
       "433  smartphone samsung galaxy a52s 5g 128gb 6.5 6g...  amazon   \n",
       "\n",
       "                                           descricao_2          ean_2  \\\n",
       "433  Características: - Marca: Samsung - Modelo: A5...  7892509120623   \n",
       "\n",
       "                                              titulo_2  \\\n",
       "433  Smartphone Samsung Galaxy A52s 5G 128GB 6.5 6G...   \n",
       "\n",
       "                                                url_2  \\\n",
       "433  https://www.americanas.com.br/produto/4472100131   \n",
       "\n",
       "                                           titulo_cb_2      loja_2  match  \n",
       "433  smartphone samsung galaxy a52s 5g 128gb 6.5 6g...  americanas      1  "
      ]
     },
     "execution_count": 9,
     "metadata": {},
     "output_type": "execute_result"
    }
   ],
   "source": [
    "df[df[\"titulo_1\"]==df[\"titulo_2\"]]"
   ]
  },
  {
   "cell_type": "markdown",
   "metadata": {},
   "source": [
    "## Otimizador e Inicialização do Modelo"
   ]
  },
  {
   "cell_type": "code",
   "execution_count": 31,
   "metadata": {},
   "outputs": [],
   "source": [
    "test = None\n",
    "\n",
    "# can be up to 512 for BERT\n",
    "MAX_LENGTH = 256\n",
    "BATCH_SIZE = 1\n",
    "tokenizer = BertTokenizer.from_pretrained('neuralmind/bert-base-portuguese-cased', do_lower_case = True)\n",
    "\n",
    "#######################INICIOS FUNÇÕES DE APOIO#######################\n",
    "\n",
    "def map_example_to_dict(input_ids, attention_masks, token_type_ids, label):\n",
    "  return {\n",
    "      \"input_ids\": input_ids,\n",
    "      \"token_type_ids\": token_type_ids,\n",
    "      \"attention_mask\": attention_masks,\n",
    "  }, label\n",
    "\n",
    "\n",
    "def convert_example_to_feature(titulo_1, titulo_2):\n",
    "    return tokenizer.encode_plus(titulo_1, titulo_2,\n",
    "                                 add_special_tokens = True, # adiciona [CLS], [SEP]\n",
    "                                 max_length = MAX_LENGTH, # comprimento máximo do texto de entrada\n",
    "                                 padding = 'max_length', # adiciona [PAD] até o tam_max (MAX_LENGTH)\n",
    "                                 truncation = True, # padrão = 'longest_first'\n",
    "                                 return_attention_mask = True, # adiciona máscara de atenção para não focar nos tokens do pad\n",
    "                                )\n",
    "\n",
    "def encode_examples(df_titulos, labels, limit = -1):\n",
    "    \n",
    "    # prepare list, so that we can build up final TensorFlow dataset from slices.\n",
    "    input_ids_list = []\n",
    "    token_type_ids_list = []\n",
    "    attention_mask_list = []\n",
    "    label_list = []\n",
    "    \n",
    "    if (limit > 0):\n",
    "        ds = ds.take(limit)\n",
    "    \n",
    "    # for review, label in tfds.as_numpy(ds):\n",
    "    for titulo_1, titulo_2, label in zip(df_titulos[\"titulo_1\"], df_titulos[\"titulo_2\"], labels):\n",
    "        \n",
    "        bert_input = convert_example_to_feature(titulo_1, titulo_2)\n",
    "        input_ids_list.append(bert_input['input_ids'])\n",
    "        token_type_ids_list.append(bert_input['token_type_ids'])\n",
    "        attention_mask_list.append(bert_input['attention_mask'])\n",
    "        label_list.append([label])\n",
    "        \n",
    "    return tf.data.Dataset.from_tensor_slices((input_ids_list, attention_mask_list, token_type_ids_list, label_list)).map(map_example_to_dict)\n",
    "\n",
    "def get_bert_data(X_train, y_train, X_valid, y_valid, X_test, y_test):\n",
    "    \n",
    "    # train dataset\n",
    "    ds_train = encode_examples(X_train, y_train).batch(BATCH_SIZE)\n",
    "\n",
    "    # test dataset\n",
    "    ds_test = encode_examples(X_test, y_test).batch(BATCH_SIZE)\n",
    "\n",
    "    #validation dataset\n",
    "    ds_valid = encode_examples(X_valid, y_valid).batch(BATCH_SIZE)\n",
    "\n",
    "    return ds_train, ds_valid, ds_test\n",
    "\n",
    "#######################FIM FUNÇOES DE APOIO#######################\n",
    "\n",
    "def get_test_metrics(model, ds_test, y_test):\n",
    "\n",
    "    #Predictin test dataset\n",
    "    tf_output = model.predict(ds_test)[0]\n",
    "    tf_prediction = tf.nn.softmax(tf_output, axis=1)\n",
    "    # labels = ['Negative','Positive'] #(0:negative, 1:positive)\n",
    "    label = tf.argmax(tf_prediction, axis=1)\n",
    "    label_pred = label.numpy()\n",
    "    # print(label_pred)\n",
    "\n",
    "    print(classification_report(y_test, label_pred))\n",
    "\n",
    "    print(confusion_matrix(y_test, label_pred))\n",
    "\n",
    "    return label_pred\n",
    "\n",
    "\n",
    "def pipeline_bert(name, X_train, y_train, X_valid, y_valid, X_test, y_test): #X_train = [titulos1, titulos2]\n",
    "\n",
    "    learning_rate = 2e-5\n",
    "    number_of_epochs = 3\n",
    "    ds_train, ds_valid, ds_test = get_bert_data(X_train, y_train, X_valid, y_valid, X_test, y_test)\n",
    "    \n",
    "    # model initialization\n",
    "    model = TFBertForSequenceClassification.from_pretrained('neuralmind/bert-base-portuguese-cased', from_pt = True)\n",
    "\n",
    "    # choosing Adam optimizer\n",
    "    optimizer = tf.keras.optimizers.Adam(learning_rate=learning_rate, epsilon=1e-08)\n",
    "    loss = tf.keras.losses.SparseCategoricalCrossentropy(from_logits=True)\n",
    "    metric_acc = tf.keras.metrics.SparseCategoricalAccuracy('accuracy')\n",
    "    model.compile(optimizer=optimizer, loss=loss, metrics=[metric_acc])\n",
    "\n",
    "    #Training model\n",
    "    bert_history = model.fit(ds_train, epochs=number_of_epochs, validation_data=ds_valid)\n",
    "    \n",
    "    #Predict test data\n",
    "    result = get_test_metrics(model, ds_test, y_test)\n",
    "    return result\n",
    "\n",
    "    # metrics = calc_metrics(y_test, result, name)\n",
    "    # return metrics\n",
    "    "
   ]
  },
  {
   "cell_type": "code",
   "execution_count": 34,
   "metadata": {},
   "outputs": [],
   "source": [
    "X = df[[\"titulo_1\", \"titulo_2\"]][:50]#[df[\"titulo_1\"].to_list(), df[\"titulo_2\"].to_list()]\n",
    "y = df[\"match\"][:50].to_list()\n",
    "\n",
    "X_train_valid, X_test, y_train_valid, y_test = train_test_split(X, y, test_size=0.3, random_state=42, stratify=y)\n",
    "X_train, X_valid, y_train, y_valid = train_test_split(X_train_valid, y_train_valid, test_size = 0.2, random_state = 42, stratify=y_train_valid)\n"
   ]
  },
  {
   "cell_type": "code",
   "execution_count": 38,
   "metadata": {},
   "outputs": [
    {
     "name": "stderr",
     "output_type": "stream",
     "text": [
      "All PyTorch model weights were used when initializing TFBertForSequenceClassification.\n",
      "\n",
      "Some weights or buffers of the TF 2.0 model TFBertForSequenceClassification were not initialized from the PyTorch model and are newly initialized: ['classifier.weight', 'classifier.bias']\n",
      "You should probably TRAIN this model on a down-stream task to be able to use it for predictions and inference.\n"
     ]
    },
    {
     "name": "stdout",
     "output_type": "stream",
     "text": [
      "Epoch 1/3\n",
      "28/28 [==============================] - 50s 1s/step - loss: 0.5347 - accuracy: 0.7857 - val_loss: 0.6296 - val_accuracy: 0.7143\n",
      "Epoch 2/3\n",
      "28/28 [==============================] - 36s 1s/step - loss: 0.4485 - accuracy: 0.7857 - val_loss: 0.5696 - val_accuracy: 0.7143\n",
      "Epoch 3/3\n",
      "28/28 [==============================] - 37s 1s/step - loss: 0.2943 - accuracy: 0.8214 - val_loss: 0.4748 - val_accuracy: 0.7143\n",
      "              precision    recall  f1-score   support\n",
      "\n",
      "           0       0.92      1.00      0.96        12\n",
      "           1       1.00      0.67      0.80         3\n",
      "\n",
      "    accuracy                           0.93        15\n",
      "   macro avg       0.96      0.83      0.88        15\n",
      "weighted avg       0.94      0.93      0.93        15\n",
      "\n"
     ]
    },
    {
     "ename": "NameError",
     "evalue": "name 'confusion_matrix' is not defined",
     "output_type": "error",
     "traceback": [
      "\u001b[1;31m---------------------------------------------------------------------------\u001b[0m",
      "\u001b[1;31mNameError\u001b[0m                                 Traceback (most recent call last)",
      "\u001b[1;32m~\\AppData\\Local\\Temp/ipykernel_5168/1172056628.py\u001b[0m in \u001b[0;36m<module>\u001b[1;34m\u001b[0m\n\u001b[1;32m----> 1\u001b[1;33m \u001b[0mpipeline_bert\u001b[0m\u001b[1;33m(\u001b[0m\u001b[1;34m\"name\"\u001b[0m\u001b[1;33m,\u001b[0m \u001b[0mX_train\u001b[0m\u001b[1;33m,\u001b[0m \u001b[0my_train\u001b[0m\u001b[1;33m,\u001b[0m \u001b[0mX_valid\u001b[0m\u001b[1;33m,\u001b[0m \u001b[0my_valid\u001b[0m\u001b[1;33m,\u001b[0m \u001b[0mX_test\u001b[0m\u001b[1;33m,\u001b[0m \u001b[0my_test\u001b[0m\u001b[1;33m)\u001b[0m\u001b[1;33m\u001b[0m\u001b[1;33m\u001b[0m\u001b[0m\n\u001b[0m",
      "\u001b[1;32m~\\AppData\\Local\\Temp/ipykernel_5168/1798874709.py\u001b[0m in \u001b[0;36mpipeline_bert\u001b[1;34m(name, X_train, y_train, X_valid, y_valid, X_test, y_test)\u001b[0m\n\u001b[0;32m     98\u001b[0m \u001b[1;33m\u001b[0m\u001b[0m\n\u001b[0;32m     99\u001b[0m     \u001b[1;31m#Predict test data\u001b[0m\u001b[1;33m\u001b[0m\u001b[1;33m\u001b[0m\u001b[0m\n\u001b[1;32m--> 100\u001b[1;33m     \u001b[0mresult\u001b[0m \u001b[1;33m=\u001b[0m \u001b[0mget_test_metrics\u001b[0m\u001b[1;33m(\u001b[0m\u001b[0mmodel\u001b[0m\u001b[1;33m,\u001b[0m \u001b[0mds_test\u001b[0m\u001b[1;33m,\u001b[0m \u001b[0my_test\u001b[0m\u001b[1;33m)\u001b[0m\u001b[1;33m\u001b[0m\u001b[1;33m\u001b[0m\u001b[0m\n\u001b[0m\u001b[0;32m    101\u001b[0m     \u001b[1;32mreturn\u001b[0m \u001b[0mresult\u001b[0m\u001b[1;33m\u001b[0m\u001b[1;33m\u001b[0m\u001b[0m\n\u001b[0;32m    102\u001b[0m \u001b[1;33m\u001b[0m\u001b[0m\n",
      "\u001b[1;32m~\\AppData\\Local\\Temp/ipykernel_5168/1798874709.py\u001b[0m in \u001b[0;36mget_test_metrics\u001b[1;34m(model, ds_test, y_test)\u001b[0m\n\u001b[0;32m     74\u001b[0m     \u001b[0mprint\u001b[0m\u001b[1;33m(\u001b[0m\u001b[0mclassification_report\u001b[0m\u001b[1;33m(\u001b[0m\u001b[0my_test\u001b[0m\u001b[1;33m,\u001b[0m \u001b[0mlabel_pred\u001b[0m\u001b[1;33m)\u001b[0m\u001b[1;33m)\u001b[0m\u001b[1;33m\u001b[0m\u001b[1;33m\u001b[0m\u001b[0m\n\u001b[0;32m     75\u001b[0m \u001b[1;33m\u001b[0m\u001b[0m\n\u001b[1;32m---> 76\u001b[1;33m     \u001b[0mprint\u001b[0m\u001b[1;33m(\u001b[0m\u001b[0mconfusion_matrix\u001b[0m\u001b[1;33m(\u001b[0m\u001b[0my_test\u001b[0m\u001b[1;33m,\u001b[0m \u001b[0mlabel_pred\u001b[0m\u001b[1;33m)\u001b[0m\u001b[1;33m)\u001b[0m\u001b[1;33m\u001b[0m\u001b[1;33m\u001b[0m\u001b[0m\n\u001b[0m\u001b[0;32m     77\u001b[0m \u001b[1;33m\u001b[0m\u001b[0m\n\u001b[0;32m     78\u001b[0m     \u001b[1;32mreturn\u001b[0m \u001b[0mlabel_pred\u001b[0m\u001b[1;33m\u001b[0m\u001b[1;33m\u001b[0m\u001b[0m\n",
      "\u001b[1;31mNameError\u001b[0m: name 'confusion_matrix' is not defined"
     ]
    }
   ],
   "source": [
    "pipeline_bert(\"name\", X_train, y_train, X_valid, y_valid, X_test, y_test)"
   ]
  },
  {
   "cell_type": "code",
   "execution_count": 40,
   "metadata": {},
   "outputs": [
    {
     "name": "stderr",
     "output_type": "stream",
     "text": [
      "All PyTorch model weights were used when initializing TFBertForSequenceClassification.\n",
      "\n",
      "Some weights or buffers of the TF 2.0 model TFBertForSequenceClassification were not initialized from the PyTorch model and are newly initialized: ['classifier.weight', 'classifier.bias']\n",
      "You should probably TRAIN this model on a down-stream task to be able to use it for predictions and inference.\n"
     ]
    },
    {
     "name": "stdout",
     "output_type": "stream",
     "text": [
      "Epoch 1/3\n",
      "28/28 [==============================] - 49s 1s/step - loss: 0.5378 - accuracy: 0.7857 - val_loss: 0.5642 - val_accuracy: 0.7143\n",
      "Epoch 2/3\n",
      "28/28 [==============================] - 36s 1s/step - loss: 0.3819 - accuracy: 0.7857 - val_loss: 0.5552 - val_accuracy: 0.7143\n",
      "Epoch 3/3\n",
      "28/28 [==============================] - 36s 1s/step - loss: 0.2037 - accuracy: 0.8571 - val_loss: 0.5796 - val_accuracy: 0.8571\n",
      "              precision    recall  f1-score   support\n",
      "\n",
      "           0       0.92      1.00      0.96        12\n",
      "           1       1.00      0.67      0.80         3\n",
      "\n",
      "    accuracy                           0.93        15\n",
      "   macro avg       0.96      0.83      0.88        15\n",
      "weighted avg       0.94      0.93      0.93        15\n",
      "\n",
      "[[12  0]\n",
      " [ 1  2]]\n"
     ]
    },
    {
     "data": {
      "text/plain": [
       "array([1, 0, 0, 0, 0, 0, 0, 0, 0, 0, 0, 0, 0, 1, 0], dtype=int64)"
      ]
     },
     "execution_count": 40,
     "metadata": {},
     "output_type": "execute_result"
    }
   ],
   "source": [
    "pipeline_bert(\"name\", X_train, y_train, X_valid, y_valid, X_test, y_test)"
   ]
  }
 ],
 "metadata": {
  "interpreter": {
   "hash": "665796ea3363072d3a6057ac2fdbe3c4fcb0d17a4b92295d9707f78e9c46c0af"
  },
  "kernelspec": {
   "display_name": "Python 3.9.7 ('base')",
   "language": "python",
   "name": "python3"
  },
  "language_info": {
   "codemirror_mode": {
    "name": "ipython",
    "version": 3
   },
   "file_extension": ".py",
   "mimetype": "text/x-python",
   "name": "python",
   "nbconvert_exporter": "python",
   "pygments_lexer": "ipython3",
   "version": "3.9.7"
  },
  "orig_nbformat": 4
 },
 "nbformat": 4,
 "nbformat_minor": 2
}

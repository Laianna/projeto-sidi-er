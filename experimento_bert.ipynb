{
 "cells": [
  {
   "cell_type": "markdown",
   "metadata": {},
   "source": [
    "# Experimento com BERT"
   ]
  },
  {
   "cell_type": "markdown",
   "metadata": {},
   "source": []
  },
  {
   "cell_type": "code",
   "execution_count": 39,
   "metadata": {},
   "outputs": [],
   "source": [
    "import pandas as pd\n",
    "\n",
    "import tensorflow as tf\n",
    "import tensorflow_addons as tfa\n",
    "\n",
    "from tensorflow.keras.optimizers import Adam\n",
    "from tensorflow.keras.losses import SparseCategoricalCrossentropy\n",
    "from tensorflow.keras.metrics import SparseCategoricalAccuracy\n",
    "\n",
    "from transformers import BertTokenizer\n",
    "from transformers import TFBertForSequenceClassification\n",
    "\n",
    "from sklearn.model_selection import train_test_split\n",
    "from sklearn.metrics import classification_report\n",
    "from sklearn.metrics import confusion_matrix\n"
   ]
  },
  {
   "cell_type": "markdown",
   "metadata": {},
   "source": []
  },
  {
   "cell_type": "code",
   "execution_count": 45,
   "metadata": {},
   "outputs": [
    {
     "data": {
      "text/html": [
       "<div>\n",
       "<style scoped>\n",
       "    .dataframe tbody tr th:only-of-type {\n",
       "        vertical-align: middle;\n",
       "    }\n",
       "\n",
       "    .dataframe tbody tr th {\n",
       "        vertical-align: top;\n",
       "    }\n",
       "\n",
       "    .dataframe thead th {\n",
       "        text-align: right;\n",
       "    }\n",
       "</style>\n",
       "<table border=\"1\" class=\"dataframe\">\n",
       "  <thead>\n",
       "    <tr style=\"text-align: right;\">\n",
       "      <th></th>\n",
       "      <th>descricao_1</th>\n",
       "      <th>ean_1</th>\n",
       "      <th>titulo_1</th>\n",
       "      <th>url_1</th>\n",
       "      <th>titulo_cb_1</th>\n",
       "      <th>loja_1</th>\n",
       "      <th>descricao_2</th>\n",
       "      <th>ean_2</th>\n",
       "      <th>titulo_2</th>\n",
       "      <th>url_2</th>\n",
       "      <th>titulo_cb_2</th>\n",
       "      <th>loja_2</th>\n",
       "      <th>match</th>\n",
       "    </tr>\n",
       "  </thead>\n",
       "  <tbody>\n",
       "    <tr>\n",
       "      <th>0</th>\n",
       "      <td>Sistema operacional Nome do sistema operaciona...</td>\n",
       "      <td>6934177738180</td>\n",
       "      <td>Pocophone Poco X3 Pro Dual sim 256GB Preto 8GB...</td>\n",
       "      <td>https://www.americanas.com.br/produto/4511090415</td>\n",
       "      <td>pocophone poco x3 pro dual sim 256gb preto 8gb...</td>\n",
       "      <td>americanas</td>\n",
       "      <td>NaN</td>\n",
       "      <td>7892509121040</td>\n",
       "      <td>Smartphone Samsung Galaxy S21 FE 5G, Preto, 12...</td>\n",
       "      <td>https://www.amazon.com.br/Smartphone-Samsung-G...</td>\n",
       "      <td>smartphone samsung galaxy s21 fe 5g, preto, 12...</td>\n",
       "      <td>amazon</td>\n",
       "      <td>0</td>\n",
       "    </tr>\n",
       "    <tr>\n",
       "      <th>1</th>\n",
       "      <td>Sobre este item    Câmera dupla com sensor de ...</td>\n",
       "      <td>7892597350315</td>\n",
       "      <td>Smartphone Motorola Moto E7 32GB 2GB RAM Cinza...</td>\n",
       "      <td>https://www.amazon.com.br/Celular-Motorola-Mot...</td>\n",
       "      <td>smartphone motorola moto e7 32gb 2gb ram cinza...</td>\n",
       "      <td>amazon</td>\n",
       "      <td>Você merece ter um smartphone tecnológico e id...</td>\n",
       "      <td>7892597350315</td>\n",
       "      <td>Smartphone Motorola Moto E7 32GB 4G Wi-Fi Tela...</td>\n",
       "      <td>https://www.americanas.com.br/produto/2626417844</td>\n",
       "      <td>smartphone motorola moto e7 32gb 4g wi-fi tela...</td>\n",
       "      <td>americanas</td>\n",
       "      <td>1</td>\n",
       "    </tr>\n",
       "    <tr>\n",
       "      <th>2</th>\n",
       "      <td>O Smartphone Samsung Galaxy A12 conta com desi...</td>\n",
       "      <td>7892509116886</td>\n",
       "      <td>Smartphone Samsung Galaxy A12 64GB 4G Wi-Fi Te...</td>\n",
       "      <td>https://www.americanas.com.br/produto/2655733635</td>\n",
       "      <td>smartphone samsung galaxy a12 64gb 4g wi-fi te...</td>\n",
       "      <td>americanas</td>\n",
       "      <td>Sobre este item   \\r\\n Isso se adeque às suas ...</td>\n",
       "      <td>5012786044210</td>\n",
       "      <td>Motorola Baba Eletronica Ease34, Motorola, Branco</td>\n",
       "      <td>https://www.amazon.com.br/Motorola-Baba-Eletro...</td>\n",
       "      <td>motorola baba eletronica ease34, motorola, branco</td>\n",
       "      <td>amazon</td>\n",
       "      <td>0</td>\n",
       "    </tr>\n",
       "  </tbody>\n",
       "</table>\n",
       "</div>"
      ],
      "text/plain": [
       "                                         descricao_1          ean_1  \\\n",
       "0  Sistema operacional Nome do sistema operaciona...  6934177738180   \n",
       "1  Sobre este item    Câmera dupla com sensor de ...  7892597350315   \n",
       "2  O Smartphone Samsung Galaxy A12 conta com desi...  7892509116886   \n",
       "\n",
       "                                            titulo_1  \\\n",
       "0  Pocophone Poco X3 Pro Dual sim 256GB Preto 8GB...   \n",
       "1  Smartphone Motorola Moto E7 32GB 2GB RAM Cinza...   \n",
       "2  Smartphone Samsung Galaxy A12 64GB 4G Wi-Fi Te...   \n",
       "\n",
       "                                               url_1  \\\n",
       "0   https://www.americanas.com.br/produto/4511090415   \n",
       "1  https://www.amazon.com.br/Celular-Motorola-Mot...   \n",
       "2   https://www.americanas.com.br/produto/2655733635   \n",
       "\n",
       "                                         titulo_cb_1      loja_1  \\\n",
       "0  pocophone poco x3 pro dual sim 256gb preto 8gb...  americanas   \n",
       "1  smartphone motorola moto e7 32gb 2gb ram cinza...      amazon   \n",
       "2  smartphone samsung galaxy a12 64gb 4g wi-fi te...  americanas   \n",
       "\n",
       "                                         descricao_2          ean_2  \\\n",
       "0                                                NaN  7892509121040   \n",
       "1  Você merece ter um smartphone tecnológico e id...  7892597350315   \n",
       "2  Sobre este item   \\r\\n Isso se adeque às suas ...  5012786044210   \n",
       "\n",
       "                                            titulo_2  \\\n",
       "0  Smartphone Samsung Galaxy S21 FE 5G, Preto, 12...   \n",
       "1  Smartphone Motorola Moto E7 32GB 4G Wi-Fi Tela...   \n",
       "2  Motorola Baba Eletronica Ease34, Motorola, Branco   \n",
       "\n",
       "                                               url_2  \\\n",
       "0  https://www.amazon.com.br/Smartphone-Samsung-G...   \n",
       "1   https://www.americanas.com.br/produto/2626417844   \n",
       "2  https://www.amazon.com.br/Motorola-Baba-Eletro...   \n",
       "\n",
       "                                         titulo_cb_2      loja_2  match  \n",
       "0  smartphone samsung galaxy s21 fe 5g, preto, 12...      amazon      0  \n",
       "1  smartphone motorola moto e7 32gb 4g wi-fi tela...  americanas      1  \n",
       "2  motorola baba eletronica ease34, motorola, branco      amazon      0  "
      ]
     },
     "execution_count": 45,
     "metadata": {},
     "output_type": "execute_result"
    }
   ],
   "source": [
    "df = pd.read_csv(\"Dados/total_pares_smartphones_2.csv\", dtype = {'ean_1': str, 'ean_2': str})\n",
    "df.head(3)"
   ]
  },
  {
   "cell_type": "code",
   "execution_count": 46,
   "metadata": {},
   "outputs": [
    {
     "data": {
      "text/plain": [
       "descricao_1    object\n",
       "ean_1          object\n",
       "titulo_1       object\n",
       "url_1          object\n",
       "titulo_cb_1    object\n",
       "loja_1         object\n",
       "descricao_2    object\n",
       "ean_2          object\n",
       "titulo_2       object\n",
       "url_2          object\n",
       "titulo_cb_2    object\n",
       "loja_2         object\n",
       "match           int64\n",
       "dtype: object"
      ]
     },
     "execution_count": 46,
     "metadata": {},
     "output_type": "execute_result"
    }
   ],
   "source": [
    "df.dtypes"
   ]
  },
  {
   "cell_type": "code",
   "execution_count": 47,
   "metadata": {},
   "outputs": [
    {
     "data": {
      "text/plain": [
       "(160, 13)"
      ]
     },
     "execution_count": 47,
     "metadata": {},
     "output_type": "execute_result"
    }
   ],
   "source": [
    "df.shape"
   ]
  },
  {
   "cell_type": "code",
   "execution_count": 48,
   "metadata": {},
   "outputs": [
    {
     "data": {
      "text/html": [
       "<div>\n",
       "<style scoped>\n",
       "    .dataframe tbody tr th:only-of-type {\n",
       "        vertical-align: middle;\n",
       "    }\n",
       "\n",
       "    .dataframe tbody tr th {\n",
       "        vertical-align: top;\n",
       "    }\n",
       "\n",
       "    .dataframe thead th {\n",
       "        text-align: right;\n",
       "    }\n",
       "</style>\n",
       "<table border=\"1\" class=\"dataframe\">\n",
       "  <thead>\n",
       "    <tr style=\"text-align: right;\">\n",
       "      <th></th>\n",
       "      <th>descricao_1</th>\n",
       "      <th>ean_1</th>\n",
       "      <th>titulo_1</th>\n",
       "      <th>url_1</th>\n",
       "      <th>titulo_cb_1</th>\n",
       "      <th>loja_1</th>\n",
       "      <th>descricao_2</th>\n",
       "      <th>ean_2</th>\n",
       "      <th>titulo_2</th>\n",
       "      <th>url_2</th>\n",
       "      <th>titulo_cb_2</th>\n",
       "      <th>loja_2</th>\n",
       "      <th>match</th>\n",
       "    </tr>\n",
       "  </thead>\n",
       "  <tbody>\n",
       "    <tr>\n",
       "      <th>155</th>\n",
       "      <td>NaN</td>\n",
       "      <td>7892509120623</td>\n",
       "      <td>Smartphone Samsung Galaxy A52s 5G 128GB 6.5 6G...</td>\n",
       "      <td>https://www.amazon.com.br/Smartphone-Galaxy-A5...</td>\n",
       "      <td>smartphone samsung galaxy a52s 5g 128gb 6.5 6g...</td>\n",
       "      <td>amazon</td>\n",
       "      <td>Características: - Marca: Samsung - Modelo: A5...</td>\n",
       "      <td>7892509120623</td>\n",
       "      <td>Smartphone Samsung Galaxy A52s 5G 128GB 6.5 6G...</td>\n",
       "      <td>https://www.americanas.com.br/produto/4472100131</td>\n",
       "      <td>smartphone samsung galaxy a52s 5g 128gb 6.5 6g...</td>\n",
       "      <td>americanas</td>\n",
       "      <td>1</td>\n",
       "    </tr>\n",
       "  </tbody>\n",
       "</table>\n",
       "</div>"
      ],
      "text/plain": [
       "    descricao_1          ean_1  \\\n",
       "155         NaN  7892509120623   \n",
       "\n",
       "                                              titulo_1  \\\n",
       "155  Smartphone Samsung Galaxy A52s 5G 128GB 6.5 6G...   \n",
       "\n",
       "                                                 url_1  \\\n",
       "155  https://www.amazon.com.br/Smartphone-Galaxy-A5...   \n",
       "\n",
       "                                           titulo_cb_1  loja_1  \\\n",
       "155  smartphone samsung galaxy a52s 5g 128gb 6.5 6g...  amazon   \n",
       "\n",
       "                                           descricao_2          ean_2  \\\n",
       "155  Características: - Marca: Samsung - Modelo: A5...  7892509120623   \n",
       "\n",
       "                                              titulo_2  \\\n",
       "155  Smartphone Samsung Galaxy A52s 5G 128GB 6.5 6G...   \n",
       "\n",
       "                                                url_2  \\\n",
       "155  https://www.americanas.com.br/produto/4472100131   \n",
       "\n",
       "                                           titulo_cb_2      loja_2  match  \n",
       "155  smartphone samsung galaxy a52s 5g 128gb 6.5 6g...  americanas      1  "
      ]
     },
     "execution_count": 48,
     "metadata": {},
     "output_type": "execute_result"
    }
   ],
   "source": [
    "df[df[\"titulo_1\"]==df[\"titulo_2\"]]"
   ]
  },
  {
   "cell_type": "markdown",
   "metadata": {},
   "source": [
    "## Otimizador e Inicialização do Modelo"
   ]
  },
  {
   "cell_type": "code",
   "execution_count": 49,
   "metadata": {},
   "outputs": [],
   "source": [
    "test = None\n",
    "\n",
    "# can be up to 512 for BERT\n",
    "MAX_LENGTH = 256\n",
    "BATCH_SIZE = 32\n",
    "tokenizer = BertTokenizer.from_pretrained('neuralmind/bert-base-portuguese-cased', do_lower_case = True)\n",
    "\n",
    "#######################INICIOS FUNÇÕES DE APOIO#######################\n",
    "\n",
    "def map_example_to_dict(input_ids, attention_masks, token_type_ids, label):\n",
    "  return {\n",
    "      \"input_ids\": input_ids,\n",
    "      \"token_type_ids\": token_type_ids,\n",
    "      \"attention_mask\": attention_masks,\n",
    "  }, label\n",
    "\n",
    "\n",
    "def convert_example_to_feature(titulo_1, titulo_2):\n",
    "    return tokenizer.encode_plus(titulo_1, titulo_2,\n",
    "                                 add_special_tokens = True, # adiciona [CLS], [SEP]\n",
    "                                 max_length = MAX_LENGTH, # comprimento máximo do texto de entrada\n",
    "                                 padding = 'max_length', # adiciona [PAD] até o tam_max (MAX_LENGTH)\n",
    "                                 truncation = True, # padrão = 'longest_first'\n",
    "                                 return_attention_mask = True, # adiciona máscara de atenção para não focar nos tokens do pad\n",
    "                                )\n",
    "\n",
    "def encode_examples(df_titulos, labels, limit = -1):\n",
    "    \n",
    "    # prepare list, so that we can build up final TensorFlow dataset from slices.\n",
    "    input_ids_list = []\n",
    "    token_type_ids_list = []\n",
    "    attention_mask_list = []\n",
    "    label_list = []\n",
    "    \n",
    "    if (limit > 0):\n",
    "        ds = ds.take(limit)\n",
    "    \n",
    "    # for review, label in tfds.as_numpy(ds):\n",
    "    for titulo_1, titulo_2, label in zip(df_titulos[\"titulo_1\"], df_titulos[\"titulo_2\"], labels):\n",
    "        \n",
    "        bert_input = convert_example_to_feature(titulo_1, titulo_2)\n",
    "        input_ids_list.append(bert_input['input_ids'])\n",
    "        token_type_ids_list.append(bert_input['token_type_ids'])\n",
    "        attention_mask_list.append(bert_input['attention_mask'])\n",
    "        label_list.append([label])\n",
    "        \n",
    "    return tf.data.Dataset.from_tensor_slices((input_ids_list, attention_mask_list, token_type_ids_list, label_list)).map(map_example_to_dict)\n",
    "\n",
    "def get_bert_data(X_train, y_train, X_valid, y_valid, X_test, y_test):\n",
    "    \n",
    "    # train dataset\n",
    "    ds_train = encode_examples(X_train, y_train).batch(BATCH_SIZE)\n",
    "\n",
    "    # test dataset\n",
    "    ds_test = encode_examples(X_test, y_test).batch(BATCH_SIZE)\n",
    "\n",
    "    #validation dataset\n",
    "    ds_valid = encode_examples(X_valid, y_valid).batch(BATCH_SIZE)\n",
    "\n",
    "    return ds_train, ds_valid, ds_test\n",
    "\n",
    "#######################FIM FUNÇOES DE APOIO#######################\n",
    "\n",
    "def get_test_metrics(model, ds_test, y_test):\n",
    "\n",
    "    #Predictin test dataset\n",
    "    tf_output = model.predict(ds_test)[0]\n",
    "    tf_prediction = tf.nn.softmax(tf_output, axis=1)\n",
    "    # labels = ['Negative','Positive'] #(0:negative, 1:positive)\n",
    "    label = tf.argmax(tf_prediction, axis=1)\n",
    "    label_pred = label.numpy()\n",
    "    # print(label_pred)\n",
    "\n",
    "    print(classification_report(y_test, label_pred))\n",
    "\n",
    "    print(confusion_matrix(y_test, label_pred))\n",
    "\n",
    "    return label_pred\n",
    "\n",
    "\n",
    "def pipeline_bert(name, X_train, y_train, X_valid, y_valid, X_test, y_test): #X_train = [titulos1, titulos2]\n",
    "\n",
    "    learning_rate = 2e-5\n",
    "    number_of_epochs = 3\n",
    "    ds_train, ds_valid, ds_test = get_bert_data(X_train, y_train, X_valid, y_valid, X_test, y_test)\n",
    "    \n",
    "    # model initialization\n",
    "    model = TFBertForSequenceClassification.from_pretrained('neuralmind/bert-base-portuguese-cased', from_pt = True)\n",
    "\n",
    "    # choosing Adam optimizer\n",
    "    optimizer = tf.keras.optimizers.Adam(learning_rate=learning_rate, epsilon=1e-08)\n",
    "    loss = tf.keras.losses.SparseCategoricalCrossentropy(from_logits=True)\n",
    "    metric_acc = tf.keras.metrics.SparseCategoricalAccuracy('accuracy')\n",
    "    model.compile(optimizer=optimizer, loss=loss, metrics=[metric_acc])\n",
    "\n",
    "    #Training model\n",
    "    bert_history = model.fit(ds_train, epochs=number_of_epochs, validation_data=ds_valid)\n",
    "    \n",
    "    #Predict test data\n",
    "    result = get_test_metrics(model, ds_test, y_test)\n",
    "    return result\n",
    "\n",
    "    # metrics = calc_metrics(y_test, result, name)\n",
    "    # return metrics\n",
    "    "
   ]
  },
  {
   "cell_type": "code",
   "execution_count": 50,
   "metadata": {},
   "outputs": [],
   "source": [
    "X = df[[\"titulo_1\", \"titulo_2\"]]#[df[\"titulo_1\"].to_list(), df[\"titulo_2\"].to_list()]\n",
    "y = df[\"match\"].to_list()\n",
    "\n",
    "X_train_valid, X_test, y_train_valid, y_test = train_test_split(X, y, test_size=0.3, random_state=42, stratify=y)\n",
    "X_train, X_valid, y_train, y_valid = train_test_split(X_train_valid, y_train_valid, test_size = 0.2, random_state = 42, stratify=y_train_valid)\n"
   ]
  },
  {
   "cell_type": "code",
   "execution_count": 52,
   "metadata": {},
   "outputs": [
    {
     "name": "stderr",
     "output_type": "stream",
     "text": [
      "All PyTorch model weights were used when initializing TFBertForSequenceClassification.\n",
      "\n",
      "Some weights or buffers of the TF 2.0 model TFBertForSequenceClassification were not initialized from the PyTorch model and are newly initialized: ['classifier.weight', 'classifier.bias']\n",
      "You should probably TRAIN this model on a down-stream task to be able to use it for predictions and inference.\n"
     ]
    },
    {
     "name": "stdout",
     "output_type": "stream",
     "text": [
      "Epoch 1/3\n",
      "3/3 [==============================] - 111s 32s/step - loss: 0.6765 - accuracy: 0.5393 - val_loss: 0.5847 - val_accuracy: 0.7826\n",
      "Epoch 2/3\n",
      "3/3 [==============================] - 92s 31s/step - loss: 0.5604 - accuracy: 0.8989 - val_loss: 0.4277 - val_accuracy: 1.0000\n",
      "Epoch 3/3\n",
      "3/3 [==============================] - 103s 36s/step - loss: 0.4479 - accuracy: 0.9438 - val_loss: 0.3261 - val_accuracy: 1.0000\n",
      "              precision    recall  f1-score   support\n",
      "\n",
      "           0       1.00      0.92      0.96        24\n",
      "           1       0.92      1.00      0.96        24\n",
      "\n",
      "    accuracy                           0.96        48\n",
      "   macro avg       0.96      0.96      0.96        48\n",
      "weighted avg       0.96      0.96      0.96        48\n",
      "\n",
      "[[22  2]\n",
      " [ 0 24]]\n"
     ]
    },
    {
     "data": {
      "text/plain": [
       "array([1, 1, 1, 0, 1, 1, 1, 0, 0, 0, 0, 1, 0, 0, 0, 1, 0, 1, 1, 1, 0, 1,\n",
       "       1, 0, 0, 1, 1, 0, 0, 1, 0, 0, 1, 1, 1, 1, 1, 1, 1, 1, 0, 0, 1, 1,\n",
       "       0, 0, 0, 0], dtype=int64)"
      ]
     },
     "execution_count": 52,
     "metadata": {},
     "output_type": "execute_result"
    }
   ],
   "source": [
    "pipeline_bert(\"name\", X_train, y_train, X_valid, y_valid, X_test, y_test)"
   ]
  }
 ],
 "metadata": {
  "interpreter": {
   "hash": "665796ea3363072d3a6057ac2fdbe3c4fcb0d17a4b92295d9707f78e9c46c0af"
  },
  "kernelspec": {
   "display_name": "Python 3.9.7 ('base')",
   "language": "python",
   "name": "python3"
  },
  "language_info": {
   "codemirror_mode": {
    "name": "ipython",
    "version": 3
   },
   "file_extension": ".py",
   "mimetype": "text/x-python",
   "name": "python",
   "nbconvert_exporter": "python",
   "pygments_lexer": "ipython3",
   "version": "3.9.7"
  },
  "orig_nbformat": 4
 },
 "nbformat": 4,
 "nbformat_minor": 2
}

{
 "cells": [
  {
   "cell_type": "markdown",
   "metadata": {},
   "source": [
    "# Projeto SiDi - Resolução de Entidade\n",
    "\n",
    "## Scraper"
   ]
  },
  {
   "cell_type": "code",
   "execution_count": 5,
   "metadata": {},
   "outputs": [],
   "source": [
    "import requests\n",
    "import pandas as pd\n",
    "import re\n",
    "\n",
    "\n",
    "from bs4 import BeautifulSoup\n",
    "import time"
   ]
  },
  {
   "cell_type": "code",
   "execution_count": 2,
   "metadata": {},
   "outputs": [],
   "source": [
    "HEADERS = ({'User-Agent':\n",
    "            'Mozilla/5.0 (Windows NT 10.0; Win64; x64) \\\n",
    "            AppleWebKit/537.36 (KHTML, like Gecko) \\\n",
    "            Chrome/90.0.4430.212 Safari/537.36',\n",
    "            'Accept-Language': 'en-US, en;q=0.5'})\n",
    "\n",
    "def getdata(url):\n",
    "    r = requests.get(url, headers = HEADERS)\n",
    "    return r.text\n",
    "\n",
    "def html_code(url):\n",
    "  \n",
    "    # pass the url\n",
    "    # into getdata function\n",
    "    htmldata = getdata(url)\n",
    "    soup = BeautifulSoup(htmldata, 'html.parser')\n",
    "  \n",
    "    # display html code\n",
    "    return (soup)"
   ]
  },
  {
   "cell_type": "code",
   "execution_count": 3,
   "metadata": {},
   "outputs": [],
   "source": [
    "def cus_data(soup):\n",
    "    # find the Html tag\n",
    "    # with find()\n",
    "    # and convert into string\n",
    "\n",
    "    cus_list= []\n",
    "\n",
    "    for item in soup.find_all(\"div\", class_=\"a-section celwidget\"):\n",
    "        review = item.find(\"span\", class_=\"a-size-base review-text review-text-content\").get_text()\n",
    "        date = item.find(\"span\", class_=\"a-size-base a-color-secondary review-date\").get_text()\n",
    "        stars = item.find(\"span\", class_=\"a-icon-alt\").get_text()\n",
    "        \n",
    "        cus_list.append((review, stars, date))\n",
    "\n",
    "    return cus_list"
   ]
  },
  {
   "cell_type": "code",
   "execution_count": 25,
   "metadata": {},
   "outputs": [],
   "source": [
    "#url = \"https://www.amazon.com.br/s?rh=n%3A16243890011&fs=true&ref=lp_16243890011_sar\"\n",
    "#https://www.amazon.com.br/s?i=electronics&rh=n%3A16243890011&s=price-desc-rank&fs=true&page=2&qid=1651783337&ref=sr_pg_2\n",
    "#paginacao = 1\n",
    "#url_base = f\"https://www.amazon.com.br/s?i=electronics&rh=n%3A16243890011&s=price-desc-rank&fs=true&page={paginacao}&qid=1651783337&ref=sr_pg_{paginacao}\""
   ]
  },
  {
   "cell_type": "code",
   "execution_count": 29,
   "metadata": {},
   "outputs": [],
   "source": [
    "links = []\n",
    "for paginacao in range(1, 173):\n",
    "    \n",
    "    url = f\"https://www.amazon.com.br/s?i=electronics&rh=n%3A16243890011&s=price-desc-rank&fs=true&page={paginacao}&qid=1651783337&ref=sr_pg_{paginacao}\"\n",
    "    soup = html_code(url)\n",
    "\n",
    "    lista_divs = soup.find_all(\"div\", {\"class\": \"a-section a-spacing-none a-spacing-top-small s-title-instructions-style\"})\n",
    "\n",
    "    for div in lista_divs:\n",
    "        for link in div.findAll('a', attrs={'href': re.compile(\"^/\")}):\n",
    "            links.append(f\"https://www.amazon.com.br{link.get('href')}\")"
   ]
  },
  {
   "cell_type": "code",
   "execution_count": 30,
   "metadata": {},
   "outputs": [
    {
     "data": {
      "text/plain": [
       "['https://www.amazon.com.br/Borosc%C3%B3pio-T%C3%A9rmica-Tecnologia-Retangular-VS290-32/dp/B08NWPFMF6/ref=sr_1_1?qid=1651783854&s=wireless&sr=1-1',\n",
       " 'https://www.amazon.com.br/PAN-TP-I5-5300U-256GB-8GB/dp/B01LB9AH6K/ref=sr_1_2?qid=1651783854&s=wireless&sr=1-2&ufe=app_do%3Aamzn1.fos.95de73c3-5dda-43a7-bd1f-63af03b14751',\n",
       " 'https://www.amazon.com.br/PAN-TP-I5-5300U-128GB-8GB/dp/B01LB909V8/ref=sr_1_3?qid=1651783854&s=wireless&sr=1-3&ufe=app_do%3Aamzn1.fos.95de73c3-5dda-43a7-bd1f-63af03b14751',\n",
       " 'https://www.amazon.com.br/PAN-FZ-G1-polegadas-256-W7P/dp/B01LB8W3UE/ref=sr_1_4?qid=1651783854&s=wireless&sr=1-4&ufe=app_do%3Aamzn1.fos.95de73c3-5dda-43a7-bd1f-63af03b14751',\n",
       " 'https://www.amazon.com.br/PAN-FZ-I5-5300U-128GB-8GB/dp/B01LB8WE5S/ref=sr_1_5?qid=1651783854&s=wireless&sr=1-5&ufe=app_do%3Aamzn1.fos.95de73c3-5dda-43a7-bd1f-63af03b14751',\n",
       " 'https://www.amazon.com.br/Apple-iPhone-13-Pro-TB/dp/B09L1MDWYK/ref=sr_1_6?qid=1651783854&s=wireless&sr=1-6&ufe=app_do%3Aamzn1.fos.95de73c3-5dda-43a7-bd1f-63af03b14751',\n",
       " 'https://www.amazon.com.br/M-Power-Pro-Tela-pol-A2644/dp/B09NQ6G4RM/ref=sr_1_7?qid=1651783854&s=wireless&sr=1-7&ufe=app_do%3Aamzn1.fos.95de73c3-5dda-43a7-bd1f-63af03b14751',\n",
       " 'https://www.amazon.com.br/Sistema-celular-TracPhone-LTE-1-global/dp/B09CB2WLLP/ref=sr_1_8?qid=1651783854&s=wireless&sr=1-8&ufe=app_do%3Aamzn1.fos.95de73c3-5dda-43a7-bd1f-63af03b14751',\n",
       " 'https://www.amazon.com.br/Smartphone-Bateria-5-000mAh-C%C3%A2mera-Tripla/dp/B09LPHBQPV/ref=sr_1_9?qid=1651783854&s=wireless&sr=1-9',\n",
       " 'https://www.amazon.com.br/ASUS-Smartphone-ZS676KS-1A074BR-QUALCOMM-SNAPDRAGON/dp/B09KJG9FBQ/ref=sr_1_10?qid=1651783854&s=wireless&sr=1-10&ufe=app_do%3Aamzn1.fos.95de73c3-5dda-43a7-bd1f-63af03b14751',\n",
       " 'https://www.amazon.com.br/Smartphone-Samsung-Galaxy-Fold3-512GB/dp/B09RV5ZNJT/ref=sr_1_11?qid=1651783854&s=wireless&sr=1-11&ufe=app_do%3Aamzn1.fos.95de73c3-5dda-43a7-bd1f-63af03b14751',\n",
       " 'https://www.amazon.com.br/Smartphone-Samsung-Galaxy-Fold3-512GB/dp/B09QXKBCL1/ref=sr_1_12?qid=1651783854&s=wireless&sr=1-12&ufe=app_do%3Aamzn1.fos.95de73c3-5dda-43a7-bd1f-63af03b14751',\n",
       " 'https://www.amazon.com.br/Smartphone-Samsung-Galaxy-Fold3-512GB/dp/B09QX3JGKF/ref=sr_1_13?qid=1651783854&s=wireless&sr=1-13&ufe=app_do%3Aamzn1.fos.95de73c3-5dda-43a7-bd1f-63af03b14751',\n",
       " 'https://www.amazon.com.br/iPhone-512gb-A2639-Sierra-M-POWER/dp/B09NNYNYSL/ref=sr_1_14?qid=1651783854&s=wireless&sr=1-14&ufe=app_do%3Aamzn1.fos.95de73c3-5dda-43a7-bd1f-63af03b14751',\n",
       " 'https://www.amazon.com.br/M-Power-Smartphone-Galaxy-Fold-512gb/dp/B09NMS4C7Y/ref=sr_1_15?qid=1651783854&s=wireless&sr=1-15&ufe=app_do%3Aamzn1.fos.95de73c3-5dda-43a7-bd1f-63af03b14751',\n",
       " 'https://www.amazon.com.br/M-Power-Smartphone-Galaxy-Fold-512gb/dp/B09NQ86MWG/ref=sr_1_16?qid=1651783854&s=wireless&sr=1-16&ufe=app_do%3Aamzn1.fos.95de73c3-5dda-43a7-bd1f-63af03b14751',\n",
       " 'https://www.amazon.com.br/Gen%C3%A9rico-4-Iphone-pro-max/dp/B00XKXHLUQ/ref=sr_1_17?qid=1651783854&s=wireless&sr=1-17&ufe=app_do%3Aamzn1.fos.95de73c3-5dda-43a7-bd1f-63af03b14751',\n",
       " 'https://www.amazon.com.br/Iphone-Apple-Grafite-512gb-Desbloqueado/dp/B08NW5L9DG/ref=sr_1_18?qid=1651783854&s=wireless&sr=1-18',\n",
       " 'https://www.amazon.com.br/Apple-iPhone-Pro-Max-TB/dp/B09L1PCMML/ref=sr_1_19?qid=1651783854&s=wireless&sr=1-19&ufe=app_do%3Aamzn1.fos.95de73c3-5dda-43a7-bd1f-63af03b14751',\n",
       " 'https://www.amazon.com.br/Smartphone-Samsung-Galaxy-Fold3-256GB/dp/B09RZVSPBM/ref=sr_1_20?qid=1651783854&s=wireless&sr=1-20&ufe=app_do%3Aamzn1.fos.95de73c3-5dda-43a7-bd1f-63af03b14751',\n",
       " 'https://www.amazon.com.br/Iphone-Apple-Prata-512gb-Desbloqueado/dp/B08NTTK2YN/ref=sr_1_21?qid=1651783854&s=wireless&sr=1-21',\n",
       " 'https://www.amazon.com.br/iPhone-128gb-Tela-A2644-M-POWER/dp/B09NNYF4XB/ref=sr_1_22?qid=1651783854&s=wireless&sr=1-22',\n",
       " 'https://www.amazon.com.br/L13-2-6-256-CAM-W10P/dp/B08WM24K9W/ref=sr_1_23?qid=1651783854&s=wireless&sr=1-23&ufe=app_do%3Aamzn1.fos.95de73c3-5dda-43a7-bd1f-63af03b14751',\n",
       " 'https://www.amazon.com.br/Samsung-XE930QCA-K01US-Galaxy-Chromebook-armazenamento/dp/B088T2C912/ref=sr_1_24?qid=1651783854&s=wireless&sr=1-24&ufe=app_do%3Aamzn1.fos.95de73c3-5dda-43a7-bd1f-63af03b14751',\n",
       " 'https://www.amazon.com.br/gp/slredirect/picassoRedirect.html/ref=pa_sp_btf_browse_electronics_sr_pg1_1?ie=UTF8&adId=A0638697N3YU2LN3WN09&url=%2FMoochy-cent%25C3%25ADmetros-Dual-Headed-Omni-Directional-Smartphones%2Fdp%2FB09VSZRK9H%2Fref%3Dsr_1_25_sspa%3Fqid%3D1651783854%26s%3Dwireless%26sr%3D1-25-spons%26ufe%3Dapp_do%253Aamzn1.fos.4bb5663b-6f7d-4772-84fa-7c7f565ec65b%26psc%3D1&qualifier=1651783854&id=1475193455876128&widgetName=sp_btf_browse',\n",
       " 'https://www.amazon.com.br/gp/slredirect/picassoRedirect.html/ref=pa_sp_btf_browse_electronics_sr_pg1_1?ie=UTF8&adId=A0358321SMOMCRN8NZJN&url=%2FSmartphone-desbloqueado-polegadas-reconhecimento-telefone%2Fdp%2FB08Y8DC5BB%2Fref%3Dsr_1_26_sspa%3Fqid%3D1651783854%26s%3Dwireless%26sr%3D1-26-spons%26ufe%3Dapp_do%253Aamzn1.fos.95de73c3-5dda-43a7-bd1f-63af03b14751%26psc%3D1&qualifier=1651783854&id=1475193455876128&widgetName=sp_btf_browse',\n",
       " 'https://www.amazon.com.br/gp/slredirect/picassoRedirect.html/ref=pa_sp_btf_browse_electronics_sr_pg1_1?ie=UTF8&adId=A1018654NTABIVJGESJ8&url=%2FHemobllo-inteligente-imperme%25C3%25A1vel-telefone-Smartphone%2Fdp%2FB07PQY2H37%2Fref%3Dsr_1_27_sspa%3Fqid%3D1651783854%26s%3Dwireless%26sr%3D1-27-spons%26ufe%3Dapp_do%253Aamzn1.fos.25548f35-0de7-44b3-b28e-0f56f3f96147%26psc%3D1&qualifier=1651783854&id=1475193455876128&widgetName=sp_btf_browse',\n",
       " 'https://www.amazon.com.br/Smartphone-Oppo-Find-256gb-12gb/dp/B09FFVTXNM/ref=sr_1_25?qid=1651783856&s=wireless&sr=1-25',\n",
       " 'https://www.amazon.com.br/polegadas-capacidade-Processador-Snapdragon-Conectividade/dp/B09YJSKZC4/ref=sr_1_26?qid=1651783856&s=wireless&sr=1-26&ufe=app_do%3Aamzn1.fos.95de73c3-5dda-43a7-bd1f-63af03b14751',\n",
       " 'https://www.amazon.com.br/Apple-iPhone-13-512-GB-Meia-noite/dp/B09T4V1G8W/ref=sr_1_27?qid=1651783856&s=wireless&sr=1-27&ufe=app_do%3Aamzn1.fos.95de73c3-5dda-43a7-bd1f-63af03b14751',\n",
       " 'https://www.amazon.com.br/Apple-iPhone-13-512-GB-das-estrelas/dp/B09L1MS3PW/ref=sr_1_28?qid=1651783856&s=wireless&sr=1-28&ufe=app_do%3Aamzn1.fos.95de73c3-5dda-43a7-bd1f-63af03b14751',\n",
       " 'https://www.amazon.com.br/Apple-iPhone-13-mini-512/dp/B09V45FHSS/ref=sr_1_29?qid=1651783856&s=wireless&sr=1-29&ufe=app_do%3Aamzn1.fos.95de73c3-5dda-43a7-bd1f-63af03b14751',\n",
       " 'https://www.amazon.com.br/Samsung-Smartphone-Galaxy-Bateria-4500mAh/dp/B09LMMX68J/ref=sr_1_30?qid=1651783856&s=wireless&sr=1-30',\n",
       " 'https://www.amazon.com.br/Smartphone-Samsung-Galaxy-S21-256GB/dp/B09M94FXNM/ref=sr_1_31?qid=1651783856&s=wireless&sr=1-31&ufe=app_do%3Aamzn1.fos.95de73c3-5dda-43a7-bd1f-63af03b14751',\n",
       " 'https://www.amazon.com.br/Smartphone-Samsung-Bateria-5-000mAh-Qu%C3%A1drupla/dp/B09HCXPNXR/ref=sr_1_32?qid=1651783856&s=wireless&sr=1-32&ufe=app_do%3Aamzn1.fos.95de73c3-5dda-43a7-bd1f-63af03b14751',\n",
       " 'https://www.amazon.com.br/Smartphone-Asus-Phone-128GB-Tela/dp/B09L8M1Q75/ref=sr_1_33?qid=1651783856&s=wireless&sr=1-33',\n",
       " 'https://www.amazon.com.br/Iphone-Apple-Prata-128gb-Desbloqueado/dp/B08NTSVHF4/ref=sr_1_34?qid=1651783856&s=wireless&sr=1-34&ufe=app_do%3Aamzn1.fos.95de73c3-5dda-43a7-bd1f-63af03b14751',\n",
       " 'https://www.amazon.com.br/Smartphone-Samsung-Bateria-5-000mAh-Qu%C3%A1drupla/dp/B09HDKMGTF/ref=sr_1_35?qid=1651783856&s=wireless&sr=1-35&ufe=app_do%3Aamzn1.fos.95de73c3-5dda-43a7-bd1f-63af03b14751',\n",
       " 'https://www.amazon.com.br/LENOVO-11CR001YUS-M90Q-W10P-256GB/dp/B08WJJJ5KR/ref=sr_1_36?qid=1651783856&s=wireless&sr=1-36&ufe=app_do%3Aamzn1.fos.95de73c3-5dda-43a7-bd1f-63af03b14751',\n",
       " 'https://www.amazon.com.br/Yamaha-P-255-piano-digital-teclas/dp/B095J8LWP9/ref=sr_1_37?qid=1651783856&s=wireless&sr=1-37&ufe=app_do%3Aamzn1.fos.95de73c3-5dda-43a7-bd1f-63af03b14751',\n",
       " 'https://www.amazon.com.br/m-s-u-n-g-experi%C3%AAncia-visualiza%C3%A7%C3%A3o-processador-Snapdragon/dp/B09R7ZLBCB/ref=sr_1_38?qid=1651783856&s=wireless&sr=1-38&ufe=app_do%3Aamzn1.fos.95de73c3-5dda-43a7-bd1f-63af03b14751',\n",
       " 'https://www.amazon.com.br/SAMSUNG-Desbloqueado-F%C3%A1brica-SM-G988U1-Armazenamento/dp/B084K6S5L2/ref=sr_1_39?qid=1651783856&s=wireless&sr=1-39',\n",
       " 'https://www.amazon.com.br/Smartphone-Samsung-Bateria-5-000mAh-Qu%C3%A1drupla/dp/B09HCXNSKJ/ref=sr_1_40?qid=1651783856&s=wireless&sr=1-40&ufe=app_do%3Aamzn1.fos.95de73c3-5dda-43a7-bd1f-63af03b14751',\n",
       " 'https://www.amazon.com.br/SM-G998B-Standard-Dual-SIM-Unlocked-Smartphone/dp/B08QNFZLTW/ref=sr_1_41?qid=1651783856&s=wireless&sr=1-41&ufe=app_do%3Aamzn1.fos.95de73c3-5dda-43a7-bd1f-63af03b14751',\n",
       " 'https://www.amazon.com.br/SAMSUNG-SM-G986U-Galaxy-Ativado-128GB/dp/B085PZ311S/ref=sr_1_42?qid=1651783856&s=wireless&sr=1-42',\n",
       " 'https://www.amazon.com.br/Samsung-Smartphone-Bateria-5-000mAh-Qu%C3%A1drupla/dp/B09LMJJ3PT/ref=sr_1_43?qid=1651783856&s=wireless&sr=1-43&ufe=app_do%3Aamzn1.fos.95de73c3-5dda-43a7-bd1f-63af03b14751',\n",
       " 'https://www.amazon.com.br/E15-4-2-256-MIC-W10P/dp/B08X2X43CR/ref=sr_1_44?qid=1651783856&s=wireless&sr=1-44&ufe=app_do%3Aamzn1.fos.95de73c3-5dda-43a7-bd1f-63af03b14751',\n",
       " 'https://www.amazon.com.br/Google-Pixel-256gb-Cloudy-White/dp/B09HZ896B2/ref=sr_1_45?qid=1651783856&s=wireless&sr=1-45&ufe=app_do%3Aamzn1.fos.95de73c3-5dda-43a7-bd1f-63af03b14751',\n",
       " 'https://www.amazon.com.br/Smartphone-Asus-Phone-512gb-M-POWER/dp/B09NNXSV5B/ref=sr_1_46?qid=1651783856&s=wireless&sr=1-46&ufe=app_do%3Aamzn1.fos.95de73c3-5dda-43a7-bd1f-63af03b14751',\n",
       " 'https://www.amazon.com.br/Latitude-5320-2-4-256-W10P/dp/B08W6QCSDD/ref=sr_1_47?qid=1651783856&s=wireless&sr=1-47&ufe=app_do%3Aamzn1.fos.95de73c3-5dda-43a7-bd1f-63af03b14751',\n",
       " 'https://www.amazon.com.br/Samsung-Galaxy-l%C3%ADquido-Desbloqueado-Devices/dp/B085LXLKV2/ref=sr_1_48?qid=1651783856&s=wireless&sr=1-48&ufe=app_do%3Aamzn1.fos.95de73c3-5dda-43a7-bd1f-63af03b14751',\n",
       " 'https://www.amazon.com.br/gp/slredirect/picassoRedirect.html/ref=pa_sp_btf_browse_electronics_sr_pg2_1?ie=UTF8&adId=A0638697N3YU2LN3WN09&qualifier=1651783856&id=7979227968430843&widgetName=sp_btf_browse&url=%2FMoochy-cent%25C3%25ADmetros-Dual-Headed-Omni-Directional-Smartphones%2Fdp%2FB09VSZRK9H%2Fref%3Dsr_1_49_sspa%3Fqid%3D1651783856%26s%3Dwireless%26sr%3D1-49-spons%26ufe%3Dapp_do%253Aamzn1.fos.4bb5663b-6f7d-4772-84fa-7c7f565ec65b%26psc%3D1',\n",
       " 'https://www.amazon.com.br/gp/slredirect/picassoRedirect.html/ref=pa_sp_btf_browse_electronics_sr_pg2_1?ie=UTF8&adId=A0358321SMOMCRN8NZJN&qualifier=1651783856&id=7979227968430843&widgetName=sp_btf_browse&url=%2FSmartphone-desbloqueado-polegadas-reconhecimento-telefone%2Fdp%2FB08Y8DC5BB%2Fref%3Dsr_1_50_sspa%3Fqid%3D1651783856%26s%3Dwireless%26sr%3D1-50-spons%26ufe%3Dapp_do%253Aamzn1.fos.95de73c3-5dda-43a7-bd1f-63af03b14751%26psc%3D1',\n",
       " 'https://www.amazon.com.br/gp/slredirect/picassoRedirect.html/ref=pa_sp_btf_browse_electronics_sr_pg2_1?ie=UTF8&adId=A1018654NTABIVJGESJ8&qualifier=1651783856&id=7979227968430843&widgetName=sp_btf_browse&url=%2FHemobllo-inteligente-imperme%25C3%25A1vel-telefone-Smartphone%2Fdp%2FB07PQY2H37%2Fref%3Dsr_1_51_sspa%3Fqid%3D1651783856%26s%3Dwireless%26sr%3D1-51-spons%26ufe%3Dapp_do%253Aamzn1.fos.25548f35-0de7-44b3-b28e-0f56f3f96147%26psc%3D1']"
      ]
     },
     "execution_count": 30,
     "metadata": {},
     "output_type": "execute_result"
    }
   ],
   "source": [
    "links"
   ]
  },
  {
   "cell_type": "code",
   "execution_count": 26,
   "metadata": {},
   "outputs": [],
   "source": [
    "lista_divs = soup.find_all(\"div\", {\"class\": \"a-section a-spacing-none a-spacing-top-small s-title-instructions-style\"})\n",
    "\n",
    "links = []\n",
    "for div in lista_divs:\n",
    "    for link in div.findAll('a', attrs={'href': re.compile(\"^/\")}):\n",
    "        links.append(f\"https://www.amazon.com.br{link.get('href')}\")\n",
    "    \n",
    "links_final = links[0:27]"
   ]
  },
  {
   "cell_type": "code",
   "execution_count": 27,
   "metadata": {},
   "outputs": [
    {
     "data": {
      "text/plain": [
       "29"
      ]
     },
     "execution_count": 27,
     "metadata": {},
     "output_type": "execute_result"
    }
   ],
   "source": [
    "len(links)"
   ]
  },
  {
   "cell_type": "code",
   "execution_count": 28,
   "metadata": {},
   "outputs": [
    {
     "data": {
      "text/plain": [
       "'https://www.amazon.com.br/REDMI-NOTE-11-TWILIGHT-128GB/dp/B09QSC4HN9/ref=sr_1_1?qid=1651782122&s=wireless&sr=1-1&ufe=app_do%3Aamzn1.fos.95de73c3-5dda-43a7-bd1f-63af03b14751'"
      ]
     },
     "execution_count": 28,
     "metadata": {},
     "output_type": "execute_result"
    }
   ],
   "source": [
    "links_final[0]"
   ]
  }
 ],
 "metadata": {
  "interpreter": {
   "hash": "0e14b8098f6196d8118101009715d93d14008b23b93168ee0c81afdd6f893da8"
  },
  "kernelspec": {
   "display_name": "Python 3.9.7 ('base')",
   "language": "python",
   "name": "python3"
  },
  "language_info": {
   "codemirror_mode": {
    "name": "ipython",
    "version": 3
   },
   "file_extension": ".py",
   "mimetype": "text/x-python",
   "name": "python",
   "nbconvert_exporter": "python",
   "pygments_lexer": "ipython3",
   "version": "3.9.7"
  },
  "orig_nbformat": 4
 },
 "nbformat": 4,
 "nbformat_minor": 2
}

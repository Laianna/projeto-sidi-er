{
 "cells": [
  {
   "cell_type": "markdown",
   "metadata": {},
   "source": [
    "# Pareamento"
   ]
  },
  {
   "cell_type": "markdown",
   "metadata": {},
   "source": [
    "Datasets que vamos montar:\n",
    "1. Hard negative dataset (Do jeito q ja montamos, seria so juntar)\n",
    "    1. Balanceando categorias\n",
    "    2. Desbalanceando categorias\n",
    "\n",
    "\n",
    "\n",
    "2. Nao matches entre categorias\n",
    "    1. Balanceando categorias\n",
    "    2. Desbalanceando categorias\n",
    "\n"
   ]
  },
  {
   "cell_type": "code",
   "execution_count": 10,
   "metadata": {},
   "outputs": [],
   "source": [
    "import pandas as pd\n",
    "pd.set_option('display.max_colwidth', None)"
   ]
  },
  {
   "cell_type": "code",
   "execution_count": 45,
   "metadata": {},
   "outputs": [],
   "source": [
    "#lista_nomes = [\"fogoes\", \"geladeiras\", \"notebooks\", \"tvs\"]\n",
    "lista_nomes = [\"celulares\"]\n",
    "\n",
    "lista_df = []\n",
    "for nome in lista_nomes:\n",
    "    \n",
    "    df = pd.read_csv(f\"Dados/Pares/pares_{nome}.csv\")\n",
    "    lista_df.append(df)"
   ]
  },
  {
   "cell_type": "code",
   "execution_count": 51,
   "metadata": {},
   "outputs": [
    {
     "name": "stdout",
     "output_type": "stream",
     "text": [
      "ok\n"
     ]
    }
   ],
   "source": [
    "for i in range(0, len(lista_nomes)):\n",
    "    df = lista_df[i][[\"titulo_1\", \"titulo_2\", \"url_1\", \"url_2\"]].sample(frac=0.3)\n",
    "    df.to_csv(f\"amostra_{lista_nomes[i]}.csv\")"
   ]
  }
 ],
 "metadata": {
  "interpreter": {
   "hash": "665796ea3363072d3a6057ac2fdbe3c4fcb0d17a4b92295d9707f78e9c46c0af"
  },
  "kernelspec": {
   "display_name": "Python 3.9.7 ('base')",
   "language": "python",
   "name": "python3"
  },
  "language_info": {
   "codemirror_mode": {
    "name": "ipython",
    "version": 3
   },
   "file_extension": ".py",
   "mimetype": "text/x-python",
   "name": "python",
   "nbconvert_exporter": "python",
   "pygments_lexer": "ipython3",
   "version": "3.9.7"
  },
  "orig_nbformat": 4
 },
 "nbformat": 4,
 "nbformat_minor": 2
}

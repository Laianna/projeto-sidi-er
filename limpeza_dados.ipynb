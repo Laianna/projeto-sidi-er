{
 "cells": [
  {
   "cell_type": "markdown",
   "metadata": {},
   "source": [
    "# Bibliotecas"
   ]
  },
  {
   "cell_type": "code",
   "execution_count": 57,
   "metadata": {},
   "outputs": [],
   "source": [
    "import pandas as pd"
   ]
  },
  {
   "cell_type": "markdown",
   "metadata": {},
   "source": [
    "# Limpeza dos dados"
   ]
  },
  {
   "cell_type": "markdown",
   "metadata": {},
   "source": [
    "## Lendo os arquivos"
   ]
  },
  {
   "cell_type": "code",
   "execution_count": 58,
   "metadata": {},
   "outputs": [],
   "source": [
    "df_americanas = pd.read_csv(f\"Dados/produtos_americanas.csv\", dtype = {'ean': str})\n",
    "df_amazon = pd.read_csv(f\"Dados/produtos_amazon.csv\", dtype = {'ean': str})"
   ]
  },
  {
   "cell_type": "code",
   "execution_count": 59,
   "metadata": {},
   "outputs": [
    {
     "data": {
      "text/plain": [
       "0713477350430    57\n",
       "9095247871972    51\n",
       "7908414420304     2\n",
       "7319625661149     1\n",
       "7465214678507     1\n",
       "                 ..\n",
       "0708570152586     1\n",
       "8263430934112     1\n",
       "6973553520094     1\n",
       "3041412361256     1\n",
       "6934177770012     1\n",
       "Name: ean, Length: 1017, dtype: int64"
      ]
     },
     "execution_count": 59,
     "metadata": {},
     "output_type": "execute_result"
    }
   ],
   "source": [
    "df_amazon[\"ean\"].value_counts()"
   ]
  },
  {
   "cell_type": "markdown",
   "metadata": {},
   "source": [
    "## Retirando títulos com palavras indesejadas"
   ]
  },
  {
   "cell_type": "code",
   "execution_count": 60,
   "metadata": {},
   "outputs": [
    {
     "name": "stdout",
     "output_type": "stream",
     "text": [
      "Amazon: (4333, 4)\n",
      "Americanas: (1032, 4)\n",
      "\n",
      "Filtrado:\n",
      "Amazon: (1911, 5)\n",
      "Americanas: (876, 5)\n"
     ]
    }
   ],
   "source": [
    "bad_words = [\"acessório\", \"acessorio\", \"adaptador\", \"alargadores\", \"anel\", \"arduino\", \"atomiser\", \"avatar\",\n",
    "             \"aparelho de som\", \"automotivo\", \"axiom\",\n",
    "             \"bandeja\", \"biometria\", \"bike\", \"boroscópio\", \"box\", \n",
    "             \"cable\", \"cabo\", \"caixa\", \"campainha\", \"calculator\", \"calculadora\", \"capa\", \"capinha\", \"card\",\n",
    "             \"case\", \"caso\", \"carregador\", \"carro\"\n",
    "             \"chassi\", \"chaveiro\", \"chave seletora\", \"clip\",\n",
    "             \"coletor\", \"collar\", \"conjunto\", \"comoda\", \"cômoda\", \"cordão\", \"cortador\", \"cosplay\",\n",
    "             \"drone\", \"eon\", \"eixo\", \"eixos\", \"espelho\", \"filme\", \"franquia\", \"gancho\", \"grânulos\", \"gaveta\",\n",
    "             \"handmade\", \"hemobblo\", \"hemobllo\", \"hd externo\", \"jbl\", \"junta\", \"kit\",\n",
    "             \"lente\", \"lixa\", \"lurrose\",\n",
    "             \"m-disc\", \"mágico\", \"magico\", \"mesa\", \"microsd\", \"monitor\", \"montagem\", \"moochy\",\n",
    "             \"netcna\", \"óculos\", \"oculos\", \"ornament\",\n",
    "             \"papel\", \"parede\", \"part\", \"partes\", \"pedal\", \"pen drive\", \"pendrive\", \"pneu\", \"pneus\", \"power bank\",\n",
    "             \"prato\", \"prettyzoom\", \"pretyzoom\", \"proteção\", \"protetor\", \"pulseira\",\n",
    "             \"raspberry\", \"radiador\", \"rank de memória\", \"realidade virtual\", \"refrigerador\", \"regeneradora\",\n",
    "             \"relogio\", \"relógio\", \"remoção\", \"reparo\", \"reposição\", \"reposiçao\", \"resfriador\", \"retrovisor\", \"roda\",\n",
    "             \"ronyme\", \"rv\", \"scanner\", \"sensor\", \"smart tv\", \"soquete\", \"stick\", \"streaming box\", \"suporte\",\n",
    "             \"tablet\", \"tampa\", \"tomada\", \"tomadas\", \"tradutor\", \"turbopower\",\n",
    "             \"ultra-sensível\", \"upgrade\", \"upgrades\",\n",
    "             \"vador\", \"veado\", \"vedação\", \"verbatim\", \"vidro\", \"vr\", \"xilofone\", \"xylophone\",\n",
    "             \"watch\", \"zawa\", \"zbox\"\n",
    "            ]\n",
    "\n",
    "print(f\"Amazon: {df_amazon.shape}\\nAmericanas: {df_americanas.shape}\")\n",
    "\n",
    "df_amazon['titulo_cb'] = df_amazon['titulo'].str.lower()\n",
    "df_americanas['titulo_cb'] = df_americanas['titulo'].str.lower()\n",
    "\n",
    "df_amazon_ft = df_amazon[~df_amazon[\"titulo_cb\"].str.contains('|'.join(bad_words))]\n",
    "df_americanas_ft = df_americanas[~df_americanas[\"titulo_cb\"].str.contains('|'.join(bad_words))]\n",
    "print(f\"\\nFiltrado:\\nAmazon: {df_amazon_ft.shape}\\nAmericanas: {df_americanas_ft.shape}\")"
   ]
  },
  {
   "cell_type": "code",
   "execution_count": 61,
   "metadata": {},
   "outputs": [],
   "source": [
    "#df_amazon_ft['url'].loc[970]"
   ]
  },
  {
   "cell_type": "code",
   "execution_count": 62,
   "metadata": {},
   "outputs": [],
   "source": [
    "#df_amazon_ft[350:].head(50)"
   ]
  },
  {
   "cell_type": "markdown",
   "metadata": {},
   "source": [
    "## Encontrando EANs repetidos na mesma loja"
   ]
  },
  {
   "cell_type": "markdown",
   "metadata": {},
   "source": [
    "Removendo produtos com o mesmo título"
   ]
  },
  {
   "cell_type": "code",
   "execution_count": 63,
   "metadata": {},
   "outputs": [],
   "source": [
    "df_amazon_ft = df_amazon_ft.loc[~df_amazon_ft[\"titulo\"].duplicated(keep = 'first')]\n",
    "df_americanas_ft = df_americanas_ft.loc[~df_americanas_ft[\"titulo\"].duplicated(keep = 'first')]"
   ]
  },
  {
   "cell_type": "code",
   "execution_count": 64,
   "metadata": {},
   "outputs": [
    {
     "name": "stdout",
     "output_type": "stream",
     "text": [
      "Amazon: (1738, 5)\n",
      "Americanas: (815, 5)\n"
     ]
    }
   ],
   "source": [
    "print(f\"Amazon: {df_amazon_ft.shape}\\nAmericanas: {df_americanas_ft.shape}\")"
   ]
  },
  {
   "cell_type": "code",
   "execution_count": 85,
   "metadata": {},
   "outputs": [
    {
     "data": {
      "text/plain": [
       "(508, 6)"
      ]
     },
     "execution_count": 85,
     "metadata": {},
     "output_type": "execute_result"
    }
   ],
   "source": [
    "df_americanas_ft[df_americanas_ft[\"ean\"].notnull()].shape"
   ]
  },
  {
   "cell_type": "code",
   "execution_count": 87,
   "metadata": {},
   "outputs": [
    {
     "data": {
      "text/plain": [
       "(467, 6)"
      ]
     },
     "execution_count": 87,
     "metadata": {},
     "output_type": "execute_result"
    }
   ],
   "source": [
    "df_amazon_ft[df_amazon_ft[\"ean\"].notnull()].shape"
   ]
  },
  {
   "cell_type": "markdown",
   "metadata": {},
   "source": [
    "Verificando Títulos de EANs duplicados"
   ]
  },
  {
   "cell_type": "code",
   "execution_count": 65,
   "metadata": {},
   "outputs": [
    {
     "data": {
      "text/html": [
       "<div>\n",
       "<style scoped>\n",
       "    .dataframe tbody tr th:only-of-type {\n",
       "        vertical-align: middle;\n",
       "    }\n",
       "\n",
       "    .dataframe tbody tr th {\n",
       "        vertical-align: top;\n",
       "    }\n",
       "\n",
       "    .dataframe thead th {\n",
       "        text-align: right;\n",
       "    }\n",
       "</style>\n",
       "<table border=\"1\" class=\"dataframe\">\n",
       "  <thead>\n",
       "    <tr style=\"text-align: right;\">\n",
       "      <th></th>\n",
       "      <th>url</th>\n",
       "      <th>titulo</th>\n",
       "      <th>ean</th>\n",
       "      <th>descricao</th>\n",
       "      <th>titulo_cb</th>\n",
       "    </tr>\n",
       "  </thead>\n",
       "  <tbody>\n",
       "    <tr>\n",
       "      <th>262</th>\n",
       "      <td>https://www.amazon.com.br/Smartphone-Multilase...</td>\n",
       "      <td>Smartphone Multilaser G Max 2 2GB + 64GB Tela ...</td>\n",
       "      <td>7908414420304</td>\n",
       "      <td>Sobre este item    Câmera Tripla 8MP + VGA + V...</td>\n",
       "      <td>smartphone multilaser g max 2 2gb + 64gb tela ...</td>\n",
       "    </tr>\n",
       "    <tr>\n",
       "      <th>2632</th>\n",
       "      <td>https://www.amazon.com.br/Smartphone-Multilase...</td>\n",
       "      <td>Smartphone Multilaser G Max 2 Dourado 64GB 2GB...</td>\n",
       "      <td>7908414420304</td>\n",
       "      <td>Sobre este item    Câmera Tripla 8MP + VGA + V...</td>\n",
       "      <td>smartphone multilaser g max 2 dourado 64gb 2gb...</td>\n",
       "    </tr>\n",
       "  </tbody>\n",
       "</table>\n",
       "</div>"
      ],
      "text/plain": [
       "                                                    url  \\\n",
       "262   https://www.amazon.com.br/Smartphone-Multilase...   \n",
       "2632  https://www.amazon.com.br/Smartphone-Multilase...   \n",
       "\n",
       "                                                 titulo            ean  \\\n",
       "262   Smartphone Multilaser G Max 2 2GB + 64GB Tela ...  7908414420304   \n",
       "2632  Smartphone Multilaser G Max 2 Dourado 64GB 2GB...  7908414420304   \n",
       "\n",
       "                                              descricao  \\\n",
       "262   Sobre este item    Câmera Tripla 8MP + VGA + V...   \n",
       "2632  Sobre este item    Câmera Tripla 8MP + VGA + V...   \n",
       "\n",
       "                                              titulo_cb  \n",
       "262   smartphone multilaser g max 2 2gb + 64gb tela ...  \n",
       "2632  smartphone multilaser g max 2 dourado 64gb 2gb...  "
      ]
     },
     "execution_count": 65,
     "metadata": {},
     "output_type": "execute_result"
    }
   ],
   "source": [
    "ama_vc_ean = df_amazon_ft[df_amazon_ft[\"ean\"].notnull()][\"ean\"].value_counts()\n",
    "ama_duplicados = ama_vc_ean[ama_vc_ean > 1].index[0]\n",
    "df_amazon_ft[df_amazon_ft['ean'] == ama_duplicados]"
   ]
  },
  {
   "cell_type": "code",
   "execution_count": 66,
   "metadata": {},
   "outputs": [
    {
     "data": {
      "text/html": [
       "<div>\n",
       "<style scoped>\n",
       "    .dataframe tbody tr th:only-of-type {\n",
       "        vertical-align: middle;\n",
       "    }\n",
       "\n",
       "    .dataframe tbody tr th {\n",
       "        vertical-align: top;\n",
       "    }\n",
       "\n",
       "    .dataframe thead th {\n",
       "        text-align: right;\n",
       "    }\n",
       "</style>\n",
       "<table border=\"1\" class=\"dataframe\">\n",
       "  <thead>\n",
       "    <tr style=\"text-align: right;\">\n",
       "      <th></th>\n",
       "      <th>descricao</th>\n",
       "      <th>ean</th>\n",
       "      <th>titulo</th>\n",
       "      <th>url</th>\n",
       "      <th>titulo_cb</th>\n",
       "    </tr>\n",
       "  </thead>\n",
       "  <tbody>\n",
       "    <tr>\n",
       "      <th>459</th>\n",
       "      <td>Características gerais Redmi Modelo - Note 10 ...</td>\n",
       "      <td>6934177734519</td>\n",
       "      <td>Redmi Note 10 Pro Dual Sim 128 gb 6 Gb Azul</td>\n",
       "      <td>https://www.americanas.com.br/produto/4431267188</td>\n",
       "      <td>redmi note 10 pro dual sim 128 gb 6 gb azul</td>\n",
       "    </tr>\n",
       "  </tbody>\n",
       "</table>\n",
       "</div>"
      ],
      "text/plain": [
       "                                             descricao            ean  \\\n",
       "459  Características gerais Redmi Modelo - Note 10 ...  6934177734519   \n",
       "\n",
       "                                          titulo  \\\n",
       "459  Redmi Note 10 Pro Dual Sim 128 gb 6 Gb Azul   \n",
       "\n",
       "                                                  url  \\\n",
       "459  https://www.americanas.com.br/produto/4431267188   \n",
       "\n",
       "                                       titulo_cb  \n",
       "459  redmi note 10 pro dual sim 128 gb 6 gb azul  "
      ]
     },
     "execution_count": 66,
     "metadata": {},
     "output_type": "execute_result"
    }
   ],
   "source": [
    "ame_vc_ean = df_americanas_ft[df_americanas_ft[\"ean\"].notnull()][\"ean\"].value_counts()\n",
    "ame_duplicados = ame_vc_ean[ame_vc_ean > 1].index\n",
    "df_americanas_ft[df_americanas_ft[\"ean\"].isin(ame_duplicados)].sort_values(by = ['ean']).head(1)"
   ]
  },
  {
   "cell_type": "code",
   "execution_count": 67,
   "metadata": {},
   "outputs": [],
   "source": [
    "df_americanas_ft['loja'] = \"americanas\"\n",
    "df_amazon_ft['loja'] = \"amazon\""
   ]
  },
  {
   "cell_type": "code",
   "execution_count": 68,
   "metadata": {},
   "outputs": [],
   "source": [
    "frames = [df_americanas_ft, df_amazon_ft]\n",
    "df_final = pd.concat(frames, ignore_index = True)"
   ]
  },
  {
   "cell_type": "code",
   "execution_count": 69,
   "metadata": {},
   "outputs": [],
   "source": [
    "vc_ean = df_final[df_final[\"ean\"].notnull()][\"ean\"].value_counts()\n",
    "duplicados = vc_ean[vc_ean > 1].index\n",
    "df_final_dup = df_final[df_final[\"ean\"].isin(duplicados)].sort_values(by = ['ean'])"
   ]
  },
  {
   "cell_type": "markdown",
   "metadata": {},
   "source": [
    "## Fazendo matches"
   ]
  },
  {
   "cell_type": "code",
   "execution_count": 70,
   "metadata": {},
   "outputs": [],
   "source": [
    "def criar_dicionario(descricao_1, ean_1, titulo_1, url_1, titulo_cb_1, loja_1,\n",
    "                     descricao_2, ean_2, titulo_2, url_2, titulo_cb_2, loja_2,\n",
    "                     match):\n",
    "    \n",
    "    return {'descricao_1' : descricao_1 , 'ean_1' : ean_1, 'titulo_1' : titulo_1,\n",
    "            'url_1' : url_1, 'titulo_cb_1' : titulo_cb_1, 'loja_1' : loja_1,\n",
    "            \n",
    "            'descricao_2' : descricao_2 , 'ean_2' : ean_2, 'titulo_2' : titulo_2,\n",
    "            'url_2' : url_2 , 'titulo_cb_2' : titulo_cb_2, 'loja_2' : loja_2,\n",
    "            \n",
    "            'match' : match\n",
    "           }"
   ]
  },
  {
   "cell_type": "code",
   "execution_count": 71,
   "metadata": {},
   "outputs": [],
   "source": [
    "def criar_pares(colunas, df_final_dup):\n",
    "\n",
    "    df_pares = pd.DataFrame(columns = colunas)\n",
    "    df_pares\n",
    "\n",
    "    lista_ean = []\n",
    "\n",
    "    for i in range(len(df_final_dup)):\n",
    "        \n",
    "        if df_final_dup.iloc[i]['ean'] not in lista_ean:\n",
    "            \n",
    "            lista_ean.append(df_final_dup.iloc[i]['ean'])\n",
    "            \n",
    "            indice = df_final_dup.index[df_final_dup['ean'] == df_final_dup.iloc[i]['ean']].tolist()\n",
    "            \n",
    "            for j in range(len(indice)-1):\n",
    "                \n",
    "                for k in range(j + 1, len(indice)):\n",
    "                    \n",
    "                    dicionario = criar_dicionario(descricao_1  = df_final_dup.loc[indice[j]]['descricao'] , ean_1 = df_final_dup.loc[indice[j]]['ean'],\n",
    "                                                  titulo_1 = df_final_dup.loc[indice[j]]['titulo'], url_1 = df_final_dup.loc[indice[j]]['url'],\n",
    "                                                  titulo_cb_1 = df_final_dup.loc[indice[j]]['titulo_cb'], loja_1 = df_final_dup.loc[indice[j]]['loja'],\n",
    "                                                  \n",
    "                                                  descricao_2 = df_final_dup.loc[indice[k]]['descricao'] , ean_2 = df_final_dup.loc[indice[k]]['ean'],\n",
    "                                                  titulo_2 = df_final_dup.loc[indice[k]]['titulo'], url_2 = df_final_dup.loc[indice[k]]['url'],\n",
    "                                                  titulo_cb_2 = df_final_dup.loc[indice[k]]['titulo_cb'], loja_2 = df_final_dup.loc[indice[k]]['loja'],\n",
    "                                                  \n",
    "                                                  match = 1\n",
    "                                                  )\n",
    "                \n",
    "                    df_pares = df_pares.append(dicionario, ignore_index = True)\n",
    "\n",
    "    return df_pares"
   ]
  },
  {
   "cell_type": "code",
   "execution_count": 72,
   "metadata": {},
   "outputs": [],
   "source": [
    "colunas = [\"descricao_1\", \"ean_1\", \"titulo_1\", \"url_1\",\t\"titulo_cb_1\", \"loja_1\",\n",
    "           \"descricao_2\", \"ean_2\", \"titulo_2\", \"url_2\",\t\"titulo_cb_2\", \"loja_2\",\n",
    "           \"match\"]"
   ]
  },
  {
   "cell_type": "code",
   "execution_count": 73,
   "metadata": {},
   "outputs": [],
   "source": [
    "df_pares = criar_pares(colunas, df_final_dup)"
   ]
  },
  {
   "cell_type": "code",
   "execution_count": 74,
   "metadata": {},
   "outputs": [],
   "source": [
    "#df_pares[df_pares['ean_1']==\"6934177738180\"][['descricao_1', 'ean_1', 'titulo_1', 'descricao_2', 'ean_2', 'titulo_2', 'loja_1', 'loja_2', 'url_1', 'url_2']]\n",
    "#df_pares[['descricao_1', 'ean_1', 'titulo_1', 'descricao_2', 'ean_2', 'titulo_2', 'loja_1', 'loja_2', 'url_1', 'url_2']]"
   ]
  },
  {
   "cell_type": "markdown",
   "metadata": {},
   "source": [
    "## Salvando Pares"
   ]
  },
  {
   "cell_type": "code",
   "execution_count": 75,
   "metadata": {},
   "outputs": [],
   "source": [
    "#df_pares.to_csv(f\"Dados/pares_smartphones.csv\", index = False)"
   ]
  },
  {
   "cell_type": "code",
   "execution_count": 76,
   "metadata": {},
   "outputs": [],
   "source": [
    "df_pares = pd.read_csv(\"Dados/pares_smartphones.csv\")"
   ]
  },
  {
   "cell_type": "markdown",
   "metadata": {},
   "source": [
    "## Criando pares que não são matches"
   ]
  },
  {
   "cell_type": "code",
   "execution_count": 77,
   "metadata": {},
   "outputs": [
    {
     "data": {
      "text/plain": [
       "(975, 6)"
      ]
     },
     "execution_count": 77,
     "metadata": {},
     "output_type": "execute_result"
    }
   ],
   "source": [
    "df_final_ean = df_final[df_final[\"ean\"].notnull()]\n",
    "df_final_ean.shape"
   ]
  },
  {
   "cell_type": "code",
   "execution_count": 78,
   "metadata": {},
   "outputs": [],
   "source": [
    "n_matches = df_pares.shape[0]*5\n",
    "df_nao_pares = pd.DataFrame(columns = colunas)\n",
    "\n",
    "for i in range(n_matches):\n",
    "    created_match = False\n",
    "    \n",
    "    while(not created_match):\n",
    "        df_sorteado = df_final_ean.sample(n = 2)\n",
    "        if(df_sorteado.iloc[0]['ean']!= df_sorteado.iloc[1]['ean']):\n",
    "            \n",
    "            dic = criar_dicionario(df_sorteado.iloc[0]['descricao'], df_sorteado.iloc[0]['ean'], df_sorteado.iloc[0]['titulo'], df_sorteado.iloc[0]['url'], df_sorteado.iloc[0]['titulo_cb'], df_sorteado.iloc[0]['loja'],\n",
    "                                   df_sorteado.iloc[1]['descricao'], df_sorteado.iloc[1]['ean'], df_sorteado.iloc[1]['titulo'], df_sorteado.iloc[1]['url'], df_sorteado.iloc[1]['titulo_cb'], df_sorteado.iloc[1]['loja'],\n",
    "                                   0)\n",
    "            \n",
    "            df_nao_pares = df_nao_pares.append(dic, ignore_index = True)\n",
    "            created_match = True"
   ]
  },
  {
   "cell_type": "markdown",
   "metadata": {},
   "source": [
    "Salvando pares não matches"
   ]
  },
  {
   "cell_type": "code",
   "execution_count": 79,
   "metadata": {},
   "outputs": [],
   "source": [
    "df_nao_pares.to_csv(f\"Dados/nao_pares_smartphones.csv\", index = False)"
   ]
  },
  {
   "cell_type": "markdown",
   "metadata": {},
   "source": [
    "## Gerando dataset final"
   ]
  },
  {
   "cell_type": "code",
   "execution_count": 80,
   "metadata": {},
   "outputs": [],
   "source": [
    "df_pares = pd.read_csv(\"Dados/pares_smartphones.csv\")\n",
    "df_nao_pares = pd.read_csv(\"Dados/nao_pares_smartphones.csv\")\n",
    "\n",
    "df_pares_total = pd.concat([df_pares, df_nao_pares], ignore_index = True)"
   ]
  },
  {
   "cell_type": "code",
   "execution_count": 81,
   "metadata": {},
   "outputs": [],
   "source": [
    "df_pares_total = df_pares_total.sample(frac = 1)\n",
    "df_pares_total.to_csv(f\"Dados/total_pares_smartphones.csv\", index = False)"
   ]
  },
  {
   "cell_type": "code",
   "execution_count": 82,
   "metadata": {},
   "outputs": [
    {
     "data": {
      "text/html": [
       "<div>\n",
       "<style scoped>\n",
       "    .dataframe tbody tr th:only-of-type {\n",
       "        vertical-align: middle;\n",
       "    }\n",
       "\n",
       "    .dataframe tbody tr th {\n",
       "        vertical-align: top;\n",
       "    }\n",
       "\n",
       "    .dataframe thead th {\n",
       "        text-align: right;\n",
       "    }\n",
       "</style>\n",
       "<table border=\"1\" class=\"dataframe\">\n",
       "  <thead>\n",
       "    <tr style=\"text-align: right;\">\n",
       "      <th></th>\n",
       "      <th>descricao_1</th>\n",
       "      <th>ean_1</th>\n",
       "      <th>titulo_1</th>\n",
       "      <th>url_1</th>\n",
       "      <th>titulo_cb_1</th>\n",
       "      <th>loja_1</th>\n",
       "      <th>descricao_2</th>\n",
       "      <th>ean_2</th>\n",
       "      <th>titulo_2</th>\n",
       "      <th>url_2</th>\n",
       "      <th>titulo_cb_2</th>\n",
       "      <th>loja_2</th>\n",
       "      <th>match</th>\n",
       "    </tr>\n",
       "  </thead>\n",
       "  <tbody>\n",
       "    <tr>\n",
       "      <th>294</th>\n",
       "      <td>Todas as informações divulgadas são de respons...</td>\n",
       "      <td>7892509113830</td>\n",
       "      <td>Smartphone Samsung Galaxy S20+ 128GB 4G Wi-Fi ...</td>\n",
       "      <td>https://www.americanas.com.br/produto/1524131271</td>\n",
       "      <td>smartphone samsung galaxy s20+ 128gb 4g wi-fi ...</td>\n",
       "      <td>americanas</td>\n",
       "      <td>Sobre este item    Esta câmera inovadora é ade...</td>\n",
       "      <td>715076307266</td>\n",
       "      <td>Smartphone com câmera dupla HD de 6,7 polegada...</td>\n",
       "      <td>https://www.amazon.com.br/dp/B09ZL914SW/ref=sr...</td>\n",
       "      <td>smartphone com câmera dupla hd de 6,7 polegada...</td>\n",
       "      <td>amazon</td>\n",
       "      <td>0</td>\n",
       "    </tr>\n",
       "    <tr>\n",
       "      <th>234</th>\n",
       "      <td>Características gerais Redmi Modelo - Note 10 ...</td>\n",
       "      <td>6934177734519</td>\n",
       "      <td>Redmi Note 10 Pro Dual Sim 128 gb 6 Gb Azul</td>\n",
       "      <td>https://www.americanas.com.br/produto/4431267188</td>\n",
       "      <td>redmi note 10 pro dual sim 128 gb 6 gb azul</td>\n",
       "      <td>americanas</td>\n",
       "      <td>Smartphone Samsung Galaxy A22 128gb 6gb Ram Te...</td>\n",
       "      <td>8806092643338</td>\n",
       "      <td>Smartphone Samsung Galaxy A22 128gb 6gb Ram Te...</td>\n",
       "      <td>https://www.americanas.com.br/produto/3932108943</td>\n",
       "      <td>smartphone samsung galaxy a22 128gb 6gb ram te...</td>\n",
       "      <td>americanas</td>\n",
       "      <td>0</td>\n",
       "    </tr>\n",
       "    <tr>\n",
       "      <th>69</th>\n",
       "      <td>O rog Phone 5 é o smartphone gamer com process...</td>\n",
       "      <td>7898573297896</td>\n",
       "      <td>Smartphone asus rog Phone 5 8GB/128GB Preto</td>\n",
       "      <td>https://www.americanas.com.br/produto/3954396245</td>\n",
       "      <td>smartphone asus rog phone 5 8gb/128gb preto</td>\n",
       "      <td>americanas</td>\n",
       "      <td>NaN</td>\n",
       "      <td>7898573297896</td>\n",
       "      <td>Smartphone ASUS ROG Phone 5 8GB/ 128GB Preto</td>\n",
       "      <td>https://www.amazon.com.br/Smartphone-ASUS-Phon...</td>\n",
       "      <td>smartphone asus rog phone 5 8gb/ 128gb preto</td>\n",
       "      <td>amazon</td>\n",
       "      <td>1</td>\n",
       "    </tr>\n",
       "    <tr>\n",
       "      <th>56</th>\n",
       "      <td>Todas as informações divulgadas são de respons...</td>\n",
       "      <td>7892597351657</td>\n",
       "      <td>Smartphone Motorola Moto G31 128GB 4G Wi-Fi Te...</td>\n",
       "      <td>https://www.americanas.com.br/produto/4447206291</td>\n",
       "      <td>smartphone motorola moto g31 128gb 4g wi-fi te...</td>\n",
       "      <td>americanas</td>\n",
       "      <td>Sobre este item    Cores surreais na tela OLED...</td>\n",
       "      <td>7892597351657</td>\n",
       "      <td>Smartphone Motorola Moto G31 128GB 4GB RAM Azul</td>\n",
       "      <td>https://www.amazon.com.br/Smartphone-Motorola-...</td>\n",
       "      <td>smartphone motorola moto g31 128gb 4gb ram azul</td>\n",
       "      <td>amazon</td>\n",
       "      <td>1</td>\n",
       "    </tr>\n",
       "    <tr>\n",
       "      <th>308</th>\n",
       "      <td>Tecnologia e conectividade com o Smartphone LG...</td>\n",
       "      <td>7893299914997</td>\n",
       "      <td>Smartphone LG K22+ 64GB 4G Wi-Fi Tela 6.2'' Du...</td>\n",
       "      <td>https://www.americanas.com.br/produto/1965288493</td>\n",
       "      <td>smartphone lg k22+ 64gb 4g wi-fi tela 6.2'' du...</td>\n",
       "      <td>americanas</td>\n",
       "      <td>Smartphone Asus Zenfone Max Shot 32gb/3gb 4gb ...</td>\n",
       "      <td>7898573296479</td>\n",
       "      <td>Smartphone Asus Zenfone Max Shot 32gb/3gb 4gb ...</td>\n",
       "      <td>https://www.americanas.com.br/produto/2634939466</td>\n",
       "      <td>smartphone asus zenfone max shot 32gb/3gb 4gb ...</td>\n",
       "      <td>americanas</td>\n",
       "      <td>0</td>\n",
       "    </tr>\n",
       "    <tr>\n",
       "      <th>...</th>\n",
       "      <td>...</td>\n",
       "      <td>...</td>\n",
       "      <td>...</td>\n",
       "      <td>...</td>\n",
       "      <td>...</td>\n",
       "      <td>...</td>\n",
       "      <td>...</td>\n",
       "      <td>...</td>\n",
       "      <td>...</td>\n",
       "      <td>...</td>\n",
       "      <td>...</td>\n",
       "      <td>...</td>\n",
       "      <td>...</td>\n",
       "    </tr>\n",
       "    <tr>\n",
       "      <th>255</th>\n",
       "      <td>Sobre este item    Habilitado 5G ：S22 Ultra pe...</td>\n",
       "      <td>1366844004970</td>\n",
       "      <td>S22 Ultra 5G Celular Smartphone Tela Full HD D...</td>\n",
       "      <td>https://www.amazon.com.br/Celular-Smartphone-P...</td>\n",
       "      <td>s22 ultra 5g celular smartphone tela full hd d...</td>\n",
       "      <td>amazon</td>\n",
       "      <td>Sobre este item    Processador poderoso: O pro...</td>\n",
       "      <td>7605066440970</td>\n",
       "      <td>Smartphone com tela de 4,66 polegadas, Smartph...</td>\n",
       "      <td>https://www.amazon.com.br/Smartphone-polegadas...</td>\n",
       "      <td>smartphone com tela de 4,66 polegadas, smartph...</td>\n",
       "      <td>amazon</td>\n",
       "      <td>0</td>\n",
       "    </tr>\n",
       "    <tr>\n",
       "      <th>281</th>\n",
       "      <td>O Zenfone Max M2 é um Smartphone completo com ...</td>\n",
       "      <td>7898573296363</td>\n",
       "      <td>Smartphone Zenfone Asus Max M2 ZB555KL-4A158BR...</td>\n",
       "      <td>https://www.americanas.com.br/produto/134218822</td>\n",
       "      <td>smartphone zenfone asus max m2 zb555kl-4a158br...</td>\n",
       "      <td>americanas</td>\n",
       "      <td>NaN</td>\n",
       "      <td>7892597349067</td>\n",
       "      <td>Smartphone Motorola One Hyper 128GB 4G Wi-Fi T...</td>\n",
       "      <td>https://www.americanas.com.br/produto/1348709660</td>\n",
       "      <td>smartphone motorola one hyper 128gb 4g wi-fi t...</td>\n",
       "      <td>americanas</td>\n",
       "      <td>0</td>\n",
       "    </tr>\n",
       "    <tr>\n",
       "      <th>339</th>\n",
       "      <td>Sobre este item   \\r\\n Isso se adeque às suas ...</td>\n",
       "      <td>5012786044210</td>\n",
       "      <td>Motorola Baba Eletronica Ease34, Motorola, Branco</td>\n",
       "      <td>https://www.amazon.com.br/Motorola-Baba-Eletro...</td>\n",
       "      <td>motorola baba eletronica ease34, motorola, branco</td>\n",
       "      <td>amazon</td>\n",
       "      <td>Sobre este item    ❤️ 【Tela de reconhecimento ...</td>\n",
       "      <td>4394085359075</td>\n",
       "      <td>Celular A60 Pro 4G com tela de gota d'água de ...</td>\n",
       "      <td>https://www.amazon.com.br/Celular-polegadas-Sm...</td>\n",
       "      <td>celular a60 pro 4g com tela de gota d'água de ...</td>\n",
       "      <td>amazon</td>\n",
       "      <td>0</td>\n",
       "    </tr>\n",
       "    <tr>\n",
       "      <th>148</th>\n",
       "      <td>O Zenfone 8 Flip foi construído para desafiar ...</td>\n",
       "      <td>4711081359845</td>\n",
       "      <td>Smartphone asus Zenfone 8 Flip 8GB/128GB Preto</td>\n",
       "      <td>https://www.americanas.com.br/produto/4266425516</td>\n",
       "      <td>smartphone asus zenfone 8 flip 8gb/128gb preto</td>\n",
       "      <td>americanas</td>\n",
       "      <td>Smartphone Multilaser G Max Preto, tenha o mel...</td>\n",
       "      <td>7899838865461</td>\n",
       "      <td>Smartphone multilaser G max 4G 32GB tela 6 1GB...</td>\n",
       "      <td>https://www.americanas.com.br/produto/4955489700</td>\n",
       "      <td>smartphone multilaser g max 4g 32gb tela 6 1gb...</td>\n",
       "      <td>americanas</td>\n",
       "      <td>0</td>\n",
       "    </tr>\n",
       "    <tr>\n",
       "      <th>65</th>\n",
       "      <td>Sobre este item    Internet rápida: Navegue co...</td>\n",
       "      <td>7896904691795</td>\n",
       "      <td>Smartphone Positivo Twist 4 Pro S518 64GB Dual...</td>\n",
       "      <td>https://www.amazon.com.br/Smartphone-Positivo-...</td>\n",
       "      <td>smartphone positivo twist 4 pro s518 64gb dual...</td>\n",
       "      <td>amazon</td>\n",
       "      <td>Você merece mais tecnologia no seu dia a dia e...</td>\n",
       "      <td>7896904691795</td>\n",
       "      <td>Smartphone Positivo Twist 4 Pro 64GB Dual Chip...</td>\n",
       "      <td>https://www.americanas.com.br/produto/2966383231</td>\n",
       "      <td>smartphone positivo twist 4 pro 64gb dual chip...</td>\n",
       "      <td>americanas</td>\n",
       "      <td>1</td>\n",
       "    </tr>\n",
       "  </tbody>\n",
       "</table>\n",
       "<p>480 rows × 13 columns</p>\n",
       "</div>"
      ],
      "text/plain": [
       "                                           descricao_1          ean_1  \\\n",
       "294  Todas as informações divulgadas são de respons...  7892509113830   \n",
       "234  Características gerais Redmi Modelo - Note 10 ...  6934177734519   \n",
       "69   O rog Phone 5 é o smartphone gamer com process...  7898573297896   \n",
       "56   Todas as informações divulgadas são de respons...  7892597351657   \n",
       "308  Tecnologia e conectividade com o Smartphone LG...  7893299914997   \n",
       "..                                                 ...            ...   \n",
       "255  Sobre este item    Habilitado 5G ：S22 Ultra pe...  1366844004970   \n",
       "281  O Zenfone Max M2 é um Smartphone completo com ...  7898573296363   \n",
       "339  Sobre este item   \\r\\n Isso se adeque às suas ...  5012786044210   \n",
       "148  O Zenfone 8 Flip foi construído para desafiar ...  4711081359845   \n",
       "65   Sobre este item    Internet rápida: Navegue co...  7896904691795   \n",
       "\n",
       "                                              titulo_1  \\\n",
       "294  Smartphone Samsung Galaxy S20+ 128GB 4G Wi-Fi ...   \n",
       "234        Redmi Note 10 Pro Dual Sim 128 gb 6 Gb Azul   \n",
       "69         Smartphone asus rog Phone 5 8GB/128GB Preto   \n",
       "56   Smartphone Motorola Moto G31 128GB 4G Wi-Fi Te...   \n",
       "308  Smartphone LG K22+ 64GB 4G Wi-Fi Tela 6.2'' Du...   \n",
       "..                                                 ...   \n",
       "255  S22 Ultra 5G Celular Smartphone Tela Full HD D...   \n",
       "281  Smartphone Zenfone Asus Max M2 ZB555KL-4A158BR...   \n",
       "339  Motorola Baba Eletronica Ease34, Motorola, Branco   \n",
       "148     Smartphone asus Zenfone 8 Flip 8GB/128GB Preto   \n",
       "65   Smartphone Positivo Twist 4 Pro S518 64GB Dual...   \n",
       "\n",
       "                                                 url_1  \\\n",
       "294   https://www.americanas.com.br/produto/1524131271   \n",
       "234   https://www.americanas.com.br/produto/4431267188   \n",
       "69    https://www.americanas.com.br/produto/3954396245   \n",
       "56    https://www.americanas.com.br/produto/4447206291   \n",
       "308   https://www.americanas.com.br/produto/1965288493   \n",
       "..                                                 ...   \n",
       "255  https://www.amazon.com.br/Celular-Smartphone-P...   \n",
       "281    https://www.americanas.com.br/produto/134218822   \n",
       "339  https://www.amazon.com.br/Motorola-Baba-Eletro...   \n",
       "148   https://www.americanas.com.br/produto/4266425516   \n",
       "65   https://www.amazon.com.br/Smartphone-Positivo-...   \n",
       "\n",
       "                                           titulo_cb_1      loja_1  \\\n",
       "294  smartphone samsung galaxy s20+ 128gb 4g wi-fi ...  americanas   \n",
       "234        redmi note 10 pro dual sim 128 gb 6 gb azul  americanas   \n",
       "69         smartphone asus rog phone 5 8gb/128gb preto  americanas   \n",
       "56   smartphone motorola moto g31 128gb 4g wi-fi te...  americanas   \n",
       "308  smartphone lg k22+ 64gb 4g wi-fi tela 6.2'' du...  americanas   \n",
       "..                                                 ...         ...   \n",
       "255  s22 ultra 5g celular smartphone tela full hd d...      amazon   \n",
       "281  smartphone zenfone asus max m2 zb555kl-4a158br...  americanas   \n",
       "339  motorola baba eletronica ease34, motorola, branco      amazon   \n",
       "148     smartphone asus zenfone 8 flip 8gb/128gb preto  americanas   \n",
       "65   smartphone positivo twist 4 pro s518 64gb dual...      amazon   \n",
       "\n",
       "                                           descricao_2          ean_2  \\\n",
       "294  Sobre este item    Esta câmera inovadora é ade...   715076307266   \n",
       "234  Smartphone Samsung Galaxy A22 128gb 6gb Ram Te...  8806092643338   \n",
       "69                                                 NaN  7898573297896   \n",
       "56   Sobre este item    Cores surreais na tela OLED...  7892597351657   \n",
       "308  Smartphone Asus Zenfone Max Shot 32gb/3gb 4gb ...  7898573296479   \n",
       "..                                                 ...            ...   \n",
       "255  Sobre este item    Processador poderoso: O pro...  7605066440970   \n",
       "281                                                NaN  7892597349067   \n",
       "339  Sobre este item    ❤️ 【Tela de reconhecimento ...  4394085359075   \n",
       "148  Smartphone Multilaser G Max Preto, tenha o mel...  7899838865461   \n",
       "65   Você merece mais tecnologia no seu dia a dia e...  7896904691795   \n",
       "\n",
       "                                              titulo_2  \\\n",
       "294  Smartphone com câmera dupla HD de 6,7 polegada...   \n",
       "234  Smartphone Samsung Galaxy A22 128gb 6gb Ram Te...   \n",
       "69        Smartphone ASUS ROG Phone 5 8GB/ 128GB Preto   \n",
       "56     Smartphone Motorola Moto G31 128GB 4GB RAM Azul   \n",
       "308  Smartphone Asus Zenfone Max Shot 32gb/3gb 4gb ...   \n",
       "..                                                 ...   \n",
       "255  Smartphone com tela de 4,66 polegadas, Smartph...   \n",
       "281  Smartphone Motorola One Hyper 128GB 4G Wi-Fi T...   \n",
       "339  Celular A60 Pro 4G com tela de gota d'água de ...   \n",
       "148  Smartphone multilaser G max 4G 32GB tela 6 1GB...   \n",
       "65   Smartphone Positivo Twist 4 Pro 64GB Dual Chip...   \n",
       "\n",
       "                                                 url_2  \\\n",
       "294  https://www.amazon.com.br/dp/B09ZL914SW/ref=sr...   \n",
       "234   https://www.americanas.com.br/produto/3932108943   \n",
       "69   https://www.amazon.com.br/Smartphone-ASUS-Phon...   \n",
       "56   https://www.amazon.com.br/Smartphone-Motorola-...   \n",
       "308   https://www.americanas.com.br/produto/2634939466   \n",
       "..                                                 ...   \n",
       "255  https://www.amazon.com.br/Smartphone-polegadas...   \n",
       "281   https://www.americanas.com.br/produto/1348709660   \n",
       "339  https://www.amazon.com.br/Celular-polegadas-Sm...   \n",
       "148   https://www.americanas.com.br/produto/4955489700   \n",
       "65    https://www.americanas.com.br/produto/2966383231   \n",
       "\n",
       "                                           titulo_cb_2      loja_2  match  \n",
       "294  smartphone com câmera dupla hd de 6,7 polegada...      amazon      0  \n",
       "234  smartphone samsung galaxy a22 128gb 6gb ram te...  americanas      0  \n",
       "69        smartphone asus rog phone 5 8gb/ 128gb preto      amazon      1  \n",
       "56     smartphone motorola moto g31 128gb 4gb ram azul      amazon      1  \n",
       "308  smartphone asus zenfone max shot 32gb/3gb 4gb ...  americanas      0  \n",
       "..                                                 ...         ...    ...  \n",
       "255  smartphone com tela de 4,66 polegadas, smartph...      amazon      0  \n",
       "281  smartphone motorola one hyper 128gb 4g wi-fi t...  americanas      0  \n",
       "339  celular a60 pro 4g com tela de gota d'água de ...      amazon      0  \n",
       "148  smartphone multilaser g max 4g 32gb tela 6 1gb...  americanas      0  \n",
       "65   smartphone positivo twist 4 pro 64gb dual chip...  americanas      1  \n",
       "\n",
       "[480 rows x 13 columns]"
      ]
     },
     "execution_count": 82,
     "metadata": {},
     "output_type": "execute_result"
    }
   ],
   "source": [
    "df_pares_total"
   ]
  }
 ],
 "metadata": {
  "interpreter": {
   "hash": "665796ea3363072d3a6057ac2fdbe3c4fcb0d17a4b92295d9707f78e9c46c0af"
  },
  "kernelspec": {
   "display_name": "Python 3.9.7 ('base')",
   "language": "python",
   "name": "python3"
  },
  "language_info": {
   "codemirror_mode": {
    "name": "ipython",
    "version": 3
   },
   "file_extension": ".py",
   "mimetype": "text/x-python",
   "name": "python",
   "nbconvert_exporter": "python",
   "pygments_lexer": "ipython3",
   "version": "3.9.7"
  },
  "orig_nbformat": 4
 },
 "nbformat": 4,
 "nbformat_minor": 2
}

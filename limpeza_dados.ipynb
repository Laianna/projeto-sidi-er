{
 "cells": [
  {
   "cell_type": "markdown",
   "metadata": {},
   "source": [
    "# Bibliotecas"
   ]
  },
  {
   "cell_type": "code",
   "execution_count": 1,
   "metadata": {},
   "outputs": [],
   "source": [
    "import pandas as pd"
   ]
  },
  {
   "cell_type": "markdown",
   "metadata": {},
   "source": [
    "# Limpeza dos dados"
   ]
  },
  {
   "cell_type": "markdown",
   "metadata": {},
   "source": [
    "## Lendo os arquivos"
   ]
  },
  {
   "cell_type": "code",
   "execution_count": 2,
   "metadata": {},
   "outputs": [],
   "source": [
    "df_americanas = pd.read_csv(f\"Dados/produtos_americanas.csv\", dtype = {'ean': str})\n",
    "df_amazon = pd.read_csv(f\"Dados/produtos_amazon.csv\", dtype = {'ean': str})"
   ]
  },
  {
   "cell_type": "code",
   "execution_count": 3,
   "metadata": {},
   "outputs": [
    {
     "data": {
      "text/plain": [
       "0713477350430    57\n",
       "9095247871972    51\n",
       "7908414420304     2\n",
       "7319625661149     1\n",
       "7465214678507     1\n",
       "                 ..\n",
       "0708570152586     1\n",
       "8263430934112     1\n",
       "6973553520094     1\n",
       "3041412361256     1\n",
       "6934177770012     1\n",
       "Name: ean, Length: 1017, dtype: int64"
      ]
     },
     "execution_count": 3,
     "metadata": {},
     "output_type": "execute_result"
    }
   ],
   "source": [
    "df_amazon[\"ean\"].value_counts()"
   ]
  },
  {
   "cell_type": "markdown",
   "metadata": {},
   "source": [
    "## Retirando títulos com palavras indesejadas"
   ]
  },
  {
   "cell_type": "code",
   "execution_count": 4,
   "metadata": {},
   "outputs": [
    {
     "name": "stdout",
     "output_type": "stream",
     "text": [
      "Amazon: (4333, 4)\n",
      "Americanas: (1032, 4)\n",
      "\n",
      "Filtrado:\n",
      "Amazon: (1911, 5)\n",
      "Americanas: (876, 5)\n"
     ]
    }
   ],
   "source": [
    "bad_words = [\"acessório\", \"acessorio\", \"adaptador\", \"alargadores\", \"anel\", \"arduino\", \"atomiser\", \"avatar\",\n",
    "             \"aparelho de som\", \"automotivo\", \"axiom\",\n",
    "             \"bandeja\", \"biometria\", \"bike\", \"boroscópio\", \"box\", \n",
    "             \"cable\", \"cabo\", \"caixa\", \"campainha\", \"calculator\", \"calculadora\", \"capa\", \"capinha\", \"card\",\n",
    "             \"case\", \"caso\", \"carregador\", \"carro\"\n",
    "             \"chassi\", \"chaveiro\", \"chave seletora\", \"clip\",\n",
    "             \"coletor\", \"collar\", \"conjunto\", \"comoda\", \"cômoda\", \"cordão\", \"cortador\", \"cosplay\",\n",
    "             \"drone\", \"eon\", \"eixo\", \"eixos\", \"espelho\", \"filme\", \"franquia\", \"gancho\", \"grânulos\", \"gaveta\",\n",
    "             \"handmade\", \"hemobblo\", \"hemobllo\", \"hd externo\", \"jbl\", \"junta\", \"kit\",\n",
    "             \"lente\", \"lixa\", \"lurrose\",\n",
    "             \"m-disc\", \"mágico\", \"magico\", \"mesa\", \"microsd\", \"monitor\", \"montagem\", \"moochy\",\n",
    "             \"netcna\", \"óculos\", \"oculos\", \"ornament\",\n",
    "             \"papel\", \"parede\", \"part\", \"partes\", \"pedal\", \"pen drive\", \"pendrive\", \"pneu\", \"pneus\", \"power bank\",\n",
    "             \"prato\", \"prettyzoom\", \"pretyzoom\", \"proteção\", \"protetor\", \"pulseira\",\n",
    "             \"raspberry\", \"radiador\", \"rank de memória\", \"realidade virtual\", \"refrigerador\", \"regeneradora\",\n",
    "             \"relogio\", \"relógio\", \"remoção\", \"reparo\", \"reposição\", \"reposiçao\", \"resfriador\", \"retrovisor\", \"roda\",\n",
    "             \"ronyme\", \"rv\", \"scanner\", \"sensor\", \"smart tv\", \"soquete\", \"stick\", \"streaming box\", \"suporte\",\n",
    "             \"tablet\", \"tampa\", \"tomada\", \"tomadas\", \"tradutor\", \"turbopower\",\n",
    "             \"ultra-sensível\", \"upgrade\", \"upgrades\",\n",
    "             \"vador\", \"veado\", \"vedação\", \"verbatim\", \"vidro\", \"vr\", \"xilofone\", \"xylophone\",\n",
    "             \"watch\", \"zawa\", \"zbox\"\n",
    "            ]\n",
    "\n",
    "print(f\"Amazon: {df_amazon.shape}\\nAmericanas: {df_americanas.shape}\")\n",
    "\n",
    "df_amazon['titulo_cb'] = df_amazon['titulo'].str.lower()\n",
    "df_americanas['titulo_cb'] = df_americanas['titulo'].str.lower()\n",
    "\n",
    "df_amazon_ft = df_amazon[~df_amazon[\"titulo_cb\"].str.contains('|'.join(bad_words))]\n",
    "df_americanas_ft = df_americanas[~df_americanas[\"titulo_cb\"].str.contains('|'.join(bad_words))]\n",
    "print(f\"\\nFiltrado:\\nAmazon: {df_amazon_ft.shape}\\nAmericanas: {df_americanas_ft.shape}\")"
   ]
  },
  {
   "cell_type": "code",
   "execution_count": 5,
   "metadata": {},
   "outputs": [],
   "source": [
    "#df_amazon_ft['url'].loc[970]"
   ]
  },
  {
   "cell_type": "code",
   "execution_count": 6,
   "metadata": {},
   "outputs": [],
   "source": [
    "#df_amazon_ft[350:].head(50)"
   ]
  },
  {
   "cell_type": "markdown",
   "metadata": {},
   "source": [
    "## Encontrando EANs repetidos na mesma loja"
   ]
  },
  {
   "cell_type": "markdown",
   "metadata": {},
   "source": [
    "Removendo produtos com o mesmo título"
   ]
  },
  {
   "cell_type": "code",
   "execution_count": 7,
   "metadata": {},
   "outputs": [],
   "source": [
    "df_amazon_ft = df_amazon_ft.loc[~df_amazon_ft[\"titulo\"].duplicated(keep = 'first')]\n",
    "df_americanas_ft = df_americanas_ft.loc[~df_americanas_ft[\"titulo\"].duplicated(keep = 'first')]"
   ]
  },
  {
   "cell_type": "code",
   "execution_count": 8,
   "metadata": {},
   "outputs": [
    {
     "name": "stdout",
     "output_type": "stream",
     "text": [
      "Amazon: (1738, 5)\n",
      "Americanas: (815, 5)\n"
     ]
    }
   ],
   "source": [
    "print(f\"Amazon: {df_amazon_ft.shape}\\nAmericanas: {df_americanas_ft.shape}\")"
   ]
  },
  {
   "cell_type": "markdown",
   "metadata": {},
   "source": [
    "Verificando Títulos de EANs duplicados"
   ]
  },
  {
   "cell_type": "code",
   "execution_count": 9,
   "metadata": {},
   "outputs": [
    {
     "data": {
      "text/html": [
       "<div>\n",
       "<style scoped>\n",
       "    .dataframe tbody tr th:only-of-type {\n",
       "        vertical-align: middle;\n",
       "    }\n",
       "\n",
       "    .dataframe tbody tr th {\n",
       "        vertical-align: top;\n",
       "    }\n",
       "\n",
       "    .dataframe thead th {\n",
       "        text-align: right;\n",
       "    }\n",
       "</style>\n",
       "<table border=\"1\" class=\"dataframe\">\n",
       "  <thead>\n",
       "    <tr style=\"text-align: right;\">\n",
       "      <th></th>\n",
       "      <th>url</th>\n",
       "      <th>titulo</th>\n",
       "      <th>ean</th>\n",
       "      <th>descricao</th>\n",
       "      <th>titulo_cb</th>\n",
       "    </tr>\n",
       "  </thead>\n",
       "  <tbody>\n",
       "    <tr>\n",
       "      <th>262</th>\n",
       "      <td>https://www.amazon.com.br/Smartphone-Multilase...</td>\n",
       "      <td>Smartphone Multilaser G Max 2 2GB + 64GB Tela ...</td>\n",
       "      <td>7908414420304</td>\n",
       "      <td>Sobre este item    Câmera Tripla 8MP + VGA + V...</td>\n",
       "      <td>smartphone multilaser g max 2 2gb + 64gb tela ...</td>\n",
       "    </tr>\n",
       "    <tr>\n",
       "      <th>2632</th>\n",
       "      <td>https://www.amazon.com.br/Smartphone-Multilase...</td>\n",
       "      <td>Smartphone Multilaser G Max 2 Dourado 64GB 2GB...</td>\n",
       "      <td>7908414420304</td>\n",
       "      <td>Sobre este item    Câmera Tripla 8MP + VGA + V...</td>\n",
       "      <td>smartphone multilaser g max 2 dourado 64gb 2gb...</td>\n",
       "    </tr>\n",
       "  </tbody>\n",
       "</table>\n",
       "</div>"
      ],
      "text/plain": [
       "                                                    url  \\\n",
       "262   https://www.amazon.com.br/Smartphone-Multilase...   \n",
       "2632  https://www.amazon.com.br/Smartphone-Multilase...   \n",
       "\n",
       "                                                 titulo            ean  \\\n",
       "262   Smartphone Multilaser G Max 2 2GB + 64GB Tela ...  7908414420304   \n",
       "2632  Smartphone Multilaser G Max 2 Dourado 64GB 2GB...  7908414420304   \n",
       "\n",
       "                                              descricao  \\\n",
       "262   Sobre este item    Câmera Tripla 8MP + VGA + V...   \n",
       "2632  Sobre este item    Câmera Tripla 8MP + VGA + V...   \n",
       "\n",
       "                                              titulo_cb  \n",
       "262   smartphone multilaser g max 2 2gb + 64gb tela ...  \n",
       "2632  smartphone multilaser g max 2 dourado 64gb 2gb...  "
      ]
     },
     "execution_count": 9,
     "metadata": {},
     "output_type": "execute_result"
    }
   ],
   "source": [
    "ama_vc_ean = df_amazon_ft[df_amazon_ft[\"ean\"].notnull()][\"ean\"].value_counts()\n",
    "ama_duplicados = ama_vc_ean[ama_vc_ean > 1].index[0]\n",
    "df_amazon_ft[df_amazon_ft['ean'] == ama_duplicados]"
   ]
  },
  {
   "cell_type": "code",
   "execution_count": 10,
   "metadata": {},
   "outputs": [
    {
     "data": {
      "text/html": [
       "<div>\n",
       "<style scoped>\n",
       "    .dataframe tbody tr th:only-of-type {\n",
       "        vertical-align: middle;\n",
       "    }\n",
       "\n",
       "    .dataframe tbody tr th {\n",
       "        vertical-align: top;\n",
       "    }\n",
       "\n",
       "    .dataframe thead th {\n",
       "        text-align: right;\n",
       "    }\n",
       "</style>\n",
       "<table border=\"1\" class=\"dataframe\">\n",
       "  <thead>\n",
       "    <tr style=\"text-align: right;\">\n",
       "      <th></th>\n",
       "      <th>descricao</th>\n",
       "      <th>ean</th>\n",
       "      <th>titulo</th>\n",
       "      <th>url</th>\n",
       "      <th>titulo_cb</th>\n",
       "    </tr>\n",
       "  </thead>\n",
       "  <tbody>\n",
       "    <tr>\n",
       "      <th>459</th>\n",
       "      <td>Características gerais Redmi Modelo - Note 10 ...</td>\n",
       "      <td>6934177734519</td>\n",
       "      <td>Redmi Note 10 Pro Dual Sim 128 gb 6 Gb Azul</td>\n",
       "      <td>https://www.americanas.com.br/produto/4431267188</td>\n",
       "      <td>redmi note 10 pro dual sim 128 gb 6 gb azul</td>\n",
       "    </tr>\n",
       "  </tbody>\n",
       "</table>\n",
       "</div>"
      ],
      "text/plain": [
       "                                             descricao            ean  \\\n",
       "459  Características gerais Redmi Modelo - Note 10 ...  6934177734519   \n",
       "\n",
       "                                          titulo  \\\n",
       "459  Redmi Note 10 Pro Dual Sim 128 gb 6 Gb Azul   \n",
       "\n",
       "                                                  url  \\\n",
       "459  https://www.americanas.com.br/produto/4431267188   \n",
       "\n",
       "                                       titulo_cb  \n",
       "459  redmi note 10 pro dual sim 128 gb 6 gb azul  "
      ]
     },
     "execution_count": 10,
     "metadata": {},
     "output_type": "execute_result"
    }
   ],
   "source": [
    "ame_vc_ean = df_americanas_ft[df_americanas_ft[\"ean\"].notnull()][\"ean\"].value_counts()\n",
    "ame_duplicados = ame_vc_ean[ame_vc_ean > 1].index\n",
    "df_americanas_ft[df_americanas_ft[\"ean\"].isin(ame_duplicados)].sort_values(by = ['ean']).head(1)"
   ]
  },
  {
   "cell_type": "code",
   "execution_count": 11,
   "metadata": {},
   "outputs": [],
   "source": [
    "df_americanas_ft['loja'] = \"americanas\"\n",
    "df_amazon_ft['loja'] = \"amazon\""
   ]
  },
  {
   "cell_type": "code",
   "execution_count": 12,
   "metadata": {},
   "outputs": [],
   "source": [
    "frames = [df_americanas_ft, df_amazon_ft]\n",
    "df_final = pd.concat(frames, ignore_index = True)"
   ]
  },
  {
   "cell_type": "code",
   "execution_count": 13,
   "metadata": {},
   "outputs": [],
   "source": [
    "vc_ean = df_final[df_final[\"ean\"].notnull()][\"ean\"].value_counts()\n",
    "duplicados = vc_ean[vc_ean > 1].index\n",
    "df_final_dup = df_final[df_final[\"ean\"].isin(duplicados)].sort_values(by = ['ean'])"
   ]
  },
  {
   "cell_type": "markdown",
   "metadata": {},
   "source": [
    "## Fazendo match"
   ]
  },
  {
   "cell_type": "code",
   "execution_count": 14,
   "metadata": {},
   "outputs": [
    {
     "data": {
      "text/html": [
       "<div>\n",
       "<style scoped>\n",
       "    .dataframe tbody tr th:only-of-type {\n",
       "        vertical-align: middle;\n",
       "    }\n",
       "\n",
       "    .dataframe tbody tr th {\n",
       "        vertical-align: top;\n",
       "    }\n",
       "\n",
       "    .dataframe thead th {\n",
       "        text-align: right;\n",
       "    }\n",
       "</style>\n",
       "<table border=\"1\" class=\"dataframe\">\n",
       "  <thead>\n",
       "    <tr style=\"text-align: right;\">\n",
       "      <th></th>\n",
       "      <th>descricao_1</th>\n",
       "      <th>ean_1</th>\n",
       "      <th>titulo_1</th>\n",
       "      <th>url_1</th>\n",
       "      <th>titulo_cb_1</th>\n",
       "      <th>loja_1</th>\n",
       "      <th>descricao_2</th>\n",
       "      <th>ean_2</th>\n",
       "      <th>titulo_2</th>\n",
       "      <th>url_2</th>\n",
       "      <th>titulo_cb_2</th>\n",
       "      <th>loja_2</th>\n",
       "    </tr>\n",
       "  </thead>\n",
       "  <tbody>\n",
       "  </tbody>\n",
       "</table>\n",
       "</div>"
      ],
      "text/plain": [
       "Empty DataFrame\n",
       "Columns: [descricao_1, ean_1, titulo_1, url_1, titulo_cb_1, loja_1, descricao_2, ean_2, titulo_2, url_2, titulo_cb_2, loja_2]\n",
       "Index: []"
      ]
     },
     "execution_count": 14,
     "metadata": {},
     "output_type": "execute_result"
    }
   ],
   "source": [
    "colunas = [\"descricao_1\", \"ean_1\", \"titulo_1\", \"url_1\",\t\"titulo_cb_1\", \"loja_1\",\n",
    "           \"descricao_2\", \"ean_2\", \"titulo_2\", \"url_2\",\t\"titulo_cb_2\", \"loja_2\"]\n",
    "\n",
    "df_pares = pd.DataFrame(columns = colunas)\n",
    "df_pares"
   ]
  },
  {
   "cell_type": "code",
   "execution_count": 16,
   "metadata": {},
   "outputs": [
    {
     "data": {
      "text/plain": [
       "139"
      ]
     },
     "execution_count": 16,
     "metadata": {},
     "output_type": "execute_result"
    }
   ],
   "source": [
    "len(df_final_dup)"
   ]
  },
  {
   "cell_type": "code",
   "execution_count": 17,
   "metadata": {},
   "outputs": [],
   "source": [
    "lista_ean = []\n",
    "\n",
    "for i in range(len(df_final_dup)):\n",
    "    \n",
    "    if df_final_dup.iloc[i]['ean'] not in lista_ean:\n",
    "        \n",
    "        lista_ean.append(df_final_dup.iloc[i]['ean'])\n",
    "        \n",
    "        indice = df_final_dup.index[df_final_dup['ean'] == df_final_dup.iloc[i]['ean']].tolist()\n",
    "        \n",
    "        for j in range(len(indice)-1):\n",
    "            \n",
    "            for k in range(j + 1, len(indice)):\n",
    "            \n",
    "                df_pares = df_pares.append({'descricao_1' : df_final_dup.loc[indice[j]]['descricao'] , 'ean_1' : df_final_dup.loc[indice[j]]['ean'],\n",
    "                                        'titulo_1' : df_final_dup.loc[indice[j]]['titulo'], 'url_1' : df_final_dup.loc[indice[j]]['url'],\n",
    "                                        'titulo_cb_1' : df_final_dup.loc[indice[j]]['titulo_cb'], 'loja_1' : df_final_dup.loc[indice[j]]['loja'],\n",
    "                                        \n",
    "                                        'descricao_2' : df_final_dup.loc[indice[k]]['descricao'] , 'ean_2' : df_final_dup.loc[indice[k]]['ean'],\n",
    "                                        'titulo_2' : df_final_dup.loc[indice[k]]['titulo'], 'url_2' : df_final_dup.loc[indice[k]]['url'] ,\n",
    "                                        'titulo_cb_2' : df_final_dup.loc[indice[k]]['titulo_cb'], 'loja_2' : df_final_dup.loc[indice[k]]['loja']}\n",
    "                                        , ignore_index=True)"
   ]
  },
  {
   "cell_type": "code",
   "execution_count": 18,
   "metadata": {},
   "outputs": [
    {
     "data": {
      "text/html": [
       "<div>\n",
       "<style scoped>\n",
       "    .dataframe tbody tr th:only-of-type {\n",
       "        vertical-align: middle;\n",
       "    }\n",
       "\n",
       "    .dataframe tbody tr th {\n",
       "        vertical-align: top;\n",
       "    }\n",
       "\n",
       "    .dataframe thead th {\n",
       "        text-align: right;\n",
       "    }\n",
       "</style>\n",
       "<table border=\"1\" class=\"dataframe\">\n",
       "  <thead>\n",
       "    <tr style=\"text-align: right;\">\n",
       "      <th></th>\n",
       "      <th>descricao_1</th>\n",
       "      <th>ean_1</th>\n",
       "      <th>titulo_1</th>\n",
       "      <th>descricao_2</th>\n",
       "      <th>ean_2</th>\n",
       "      <th>titulo_2</th>\n",
       "      <th>loja_1</th>\n",
       "      <th>loja_2</th>\n",
       "      <th>url_1</th>\n",
       "      <th>url_2</th>\n",
       "    </tr>\n",
       "  </thead>\n",
       "  <tbody>\n",
       "    <tr>\n",
       "      <th>0</th>\n",
       "      <td>Todas as informações divulgadas são de respons...</td>\n",
       "      <td>0194252040485</td>\n",
       "      <td>iPhone 12 Pro Apple (512GB) Prateado Tela 6,1\"...</td>\n",
       "      <td>Sobre este item    IPhone 12 pro    512GB    D...</td>\n",
       "      <td>0194252040485</td>\n",
       "      <td>Iphone 12 Pro Apple Prata, 512gb Desbloqueado ...</td>\n",
       "      <td>americanas</td>\n",
       "      <td>amazon</td>\n",
       "      <td>https://www.americanas.com.br/produto/2290962881</td>\n",
       "      <td>https://www.amazon.com.br/Iphone-Apple-Prata-5...</td>\n",
       "    </tr>\n",
       "    <tr>\n",
       "      <th>1</th>\n",
       "      <td>Características gerais Redmi Modelo - Note 10 ...</td>\n",
       "      <td>6934177734519</td>\n",
       "      <td>Redmi Note 10 Pro Dual Sim 128 Gb Cinza 6 Gb</td>\n",
       "      <td>Características gerais Redmi Modelo - Note 10 ...</td>\n",
       "      <td>6934177734519</td>\n",
       "      <td>Redmi Note 10 Pro Dual Sim 128 gb 6 Gb Azul</td>\n",
       "      <td>americanas</td>\n",
       "      <td>americanas</td>\n",
       "      <td>https://www.americanas.com.br/produto/4431295470</td>\n",
       "      <td>https://www.americanas.com.br/produto/4431267188</td>\n",
       "    </tr>\n",
       "    <tr>\n",
       "      <th>2</th>\n",
       "      <td>Desempenho superior com Snapdragon 860O que ve...</td>\n",
       "      <td>6934177738180</td>\n",
       "      <td>Poco X3 Pro Dual sim 256GB 8GB ram - Preto</td>\n",
       "      <td>Sistema operacional Nome do sistema operaciona...</td>\n",
       "      <td>6934177738180</td>\n",
       "      <td>Pocophone Poco X3 Pro Dual sim 256GB Preto 8GB...</td>\n",
       "      <td>americanas</td>\n",
       "      <td>americanas</td>\n",
       "      <td>https://www.americanas.com.br/produto/4540396296</td>\n",
       "      <td>https://www.americanas.com.br/produto/4511090415</td>\n",
       "    </tr>\n",
       "    <tr>\n",
       "      <th>3</th>\n",
       "      <td>Desempenho superior com Snapdragon 860O que ve...</td>\n",
       "      <td>6934177738180</td>\n",
       "      <td>Poco X3 Pro Dual sim 256GB 8GB ram - Preto</td>\n",
       "      <td>Sobre este item    ATENÇÃO: VERSÃO INDIANA, CO...</td>\n",
       "      <td>6934177738180</td>\n",
       "      <td>Smartphone Poco X3 PRO 256gb 8gb RAM – Phantom...</td>\n",
       "      <td>americanas</td>\n",
       "      <td>amazon</td>\n",
       "      <td>https://www.americanas.com.br/produto/4540396296</td>\n",
       "      <td>https://www.amazon.com.br/Smartphone-Poco-PRO-...</td>\n",
       "    </tr>\n",
       "    <tr>\n",
       "      <th>4</th>\n",
       "      <td>Sistema operacional Nome do sistema operaciona...</td>\n",
       "      <td>6934177738180</td>\n",
       "      <td>Pocophone Poco X3 Pro Dual sim 256GB Preto 8GB...</td>\n",
       "      <td>Sobre este item    ATENÇÃO: VERSÃO INDIANA, CO...</td>\n",
       "      <td>6934177738180</td>\n",
       "      <td>Smartphone Poco X3 PRO 256gb 8gb RAM – Phantom...</td>\n",
       "      <td>americanas</td>\n",
       "      <td>amazon</td>\n",
       "      <td>https://www.americanas.com.br/produto/4511090415</td>\n",
       "      <td>https://www.amazon.com.br/Smartphone-Poco-PRO-...</td>\n",
       "    </tr>\n",
       "    <tr>\n",
       "      <th>...</th>\n",
       "      <td>...</td>\n",
       "      <td>...</td>\n",
       "      <td>...</td>\n",
       "      <td>...</td>\n",
       "      <td>...</td>\n",
       "      <td>...</td>\n",
       "      <td>...</td>\n",
       "      <td>...</td>\n",
       "      <td>...</td>\n",
       "      <td>...</td>\n",
       "    </tr>\n",
       "    <tr>\n",
       "      <th>75</th>\n",
       "      <td>Multilaser G Max 2 com tela de 6.5 hd + u-notc...</td>\n",
       "      <td>7908414420304</td>\n",
       "      <td>Smartphone GMax 2 P9157 Tela 6.5 64GB 2GB ram ...</td>\n",
       "      <td>Sobre este item    Câmera Tripla 8MP + VGA + V...</td>\n",
       "      <td>7908414420304</td>\n",
       "      <td>Smartphone Multilaser G Max 2 2GB + 64GB Tela ...</td>\n",
       "      <td>americanas</td>\n",
       "      <td>amazon</td>\n",
       "      <td>https://www.americanas.com.br/produto/4782017527</td>\n",
       "      <td>https://www.amazon.com.br/Smartphone-Multilase...</td>\n",
       "    </tr>\n",
       "    <tr>\n",
       "      <th>76</th>\n",
       "      <td>Multilaser G Max 2 com tela de 6.5 hd + u-notc...</td>\n",
       "      <td>7908414420304</td>\n",
       "      <td>Smartphone GMax 2 P9157 Tela 6.5 64GB 2GB ram ...</td>\n",
       "      <td>Sobre este item    Câmera Tripla 8MP + VGA + V...</td>\n",
       "      <td>7908414420304</td>\n",
       "      <td>Smartphone Multilaser G Max 2 Dourado 64GB 2GB...</td>\n",
       "      <td>americanas</td>\n",
       "      <td>amazon</td>\n",
       "      <td>https://www.americanas.com.br/produto/4782017527</td>\n",
       "      <td>https://www.amazon.com.br/Smartphone-Multilase...</td>\n",
       "    </tr>\n",
       "    <tr>\n",
       "      <th>77</th>\n",
       "      <td>Sobre este item    Câmera Tripla 8MP + VGA + V...</td>\n",
       "      <td>7908414420304</td>\n",
       "      <td>Smartphone Multilaser G Max 2 2GB + 64GB Tela ...</td>\n",
       "      <td>Sobre este item    Câmera Tripla 8MP + VGA + V...</td>\n",
       "      <td>7908414420304</td>\n",
       "      <td>Smartphone Multilaser G Max 2 Dourado 64GB 2GB...</td>\n",
       "      <td>amazon</td>\n",
       "      <td>amazon</td>\n",
       "      <td>https://www.amazon.com.br/Smartphone-Multilase...</td>\n",
       "      <td>https://www.amazon.com.br/Smartphone-Multilase...</td>\n",
       "    </tr>\n",
       "    <tr>\n",
       "      <th>78</th>\n",
       "      <td>Sobre este item    Função de hotspot móvel    ...</td>\n",
       "      <td>8906129031876</td>\n",
       "      <td>Smartphone Xiaomi Redmi 9i Sport 64gb / 4gb Ra...</td>\n",
       "      <td>Sistema operacional Nome do sistema operaciona...</td>\n",
       "      <td>8906129031876</td>\n",
       "      <td>Xiaomi Redmi 9i Dual sim 64 gb midnight black ...</td>\n",
       "      <td>amazon</td>\n",
       "      <td>americanas</td>\n",
       "      <td>https://www.amazon.com.br/Smartphone-Xiaomi-Re...</td>\n",
       "      <td>https://www.americanas.com.br/produto/4820569930</td>\n",
       "    </tr>\n",
       "    <tr>\n",
       "      <th>79</th>\n",
       "      <td>NaN</td>\n",
       "      <td>8908012587507</td>\n",
       "      <td>Smartphone Xiaomi Redmi 9 India 64GB 4GB RAM T...</td>\n",
       "      <td>Sistema operacional Nome do sistema operaciona...</td>\n",
       "      <td>8908012587507</td>\n",
       "      <td>Xiaomi Redmi 9 Dual sim 64 gb carbon black 4 g...</td>\n",
       "      <td>amazon</td>\n",
       "      <td>americanas</td>\n",
       "      <td>https://www.amazon.com.br/Smartphone-Xiaomi-Re...</td>\n",
       "      <td>https://www.americanas.com.br/produto/4604449327</td>\n",
       "    </tr>\n",
       "  </tbody>\n",
       "</table>\n",
       "<p>80 rows × 10 columns</p>\n",
       "</div>"
      ],
      "text/plain": [
       "                                          descricao_1          ean_1  \\\n",
       "0   Todas as informações divulgadas são de respons...  0194252040485   \n",
       "1   Características gerais Redmi Modelo - Note 10 ...  6934177734519   \n",
       "2   Desempenho superior com Snapdragon 860O que ve...  6934177738180   \n",
       "3   Desempenho superior com Snapdragon 860O que ve...  6934177738180   \n",
       "4   Sistema operacional Nome do sistema operaciona...  6934177738180   \n",
       "..                                                ...            ...   \n",
       "75  Multilaser G Max 2 com tela de 6.5 hd + u-notc...  7908414420304   \n",
       "76  Multilaser G Max 2 com tela de 6.5 hd + u-notc...  7908414420304   \n",
       "77  Sobre este item    Câmera Tripla 8MP + VGA + V...  7908414420304   \n",
       "78  Sobre este item    Função de hotspot móvel    ...  8906129031876   \n",
       "79                                                NaN  8908012587507   \n",
       "\n",
       "                                             titulo_1  \\\n",
       "0   iPhone 12 Pro Apple (512GB) Prateado Tela 6,1\"...   \n",
       "1        Redmi Note 10 Pro Dual Sim 128 Gb Cinza 6 Gb   \n",
       "2          Poco X3 Pro Dual sim 256GB 8GB ram - Preto   \n",
       "3          Poco X3 Pro Dual sim 256GB 8GB ram - Preto   \n",
       "4   Pocophone Poco X3 Pro Dual sim 256GB Preto 8GB...   \n",
       "..                                                ...   \n",
       "75  Smartphone GMax 2 P9157 Tela 6.5 64GB 2GB ram ...   \n",
       "76  Smartphone GMax 2 P9157 Tela 6.5 64GB 2GB ram ...   \n",
       "77  Smartphone Multilaser G Max 2 2GB + 64GB Tela ...   \n",
       "78  Smartphone Xiaomi Redmi 9i Sport 64gb / 4gb Ra...   \n",
       "79  Smartphone Xiaomi Redmi 9 India 64GB 4GB RAM T...   \n",
       "\n",
       "                                          descricao_2          ean_2  \\\n",
       "0   Sobre este item    IPhone 12 pro    512GB    D...  0194252040485   \n",
       "1   Características gerais Redmi Modelo - Note 10 ...  6934177734519   \n",
       "2   Sistema operacional Nome do sistema operaciona...  6934177738180   \n",
       "3   Sobre este item    ATENÇÃO: VERSÃO INDIANA, CO...  6934177738180   \n",
       "4   Sobre este item    ATENÇÃO: VERSÃO INDIANA, CO...  6934177738180   \n",
       "..                                                ...            ...   \n",
       "75  Sobre este item    Câmera Tripla 8MP + VGA + V...  7908414420304   \n",
       "76  Sobre este item    Câmera Tripla 8MP + VGA + V...  7908414420304   \n",
       "77  Sobre este item    Câmera Tripla 8MP + VGA + V...  7908414420304   \n",
       "78  Sistema operacional Nome do sistema operaciona...  8906129031876   \n",
       "79  Sistema operacional Nome do sistema operaciona...  8908012587507   \n",
       "\n",
       "                                             titulo_2      loja_1      loja_2  \\\n",
       "0   Iphone 12 Pro Apple Prata, 512gb Desbloqueado ...  americanas      amazon   \n",
       "1         Redmi Note 10 Pro Dual Sim 128 gb 6 Gb Azul  americanas  americanas   \n",
       "2   Pocophone Poco X3 Pro Dual sim 256GB Preto 8GB...  americanas  americanas   \n",
       "3   Smartphone Poco X3 PRO 256gb 8gb RAM – Phantom...  americanas      amazon   \n",
       "4   Smartphone Poco X3 PRO 256gb 8gb RAM – Phantom...  americanas      amazon   \n",
       "..                                                ...         ...         ...   \n",
       "75  Smartphone Multilaser G Max 2 2GB + 64GB Tela ...  americanas      amazon   \n",
       "76  Smartphone Multilaser G Max 2 Dourado 64GB 2GB...  americanas      amazon   \n",
       "77  Smartphone Multilaser G Max 2 Dourado 64GB 2GB...      amazon      amazon   \n",
       "78  Xiaomi Redmi 9i Dual sim 64 gb midnight black ...      amazon  americanas   \n",
       "79  Xiaomi Redmi 9 Dual sim 64 gb carbon black 4 g...      amazon  americanas   \n",
       "\n",
       "                                                url_1  \\\n",
       "0    https://www.americanas.com.br/produto/2290962881   \n",
       "1    https://www.americanas.com.br/produto/4431295470   \n",
       "2    https://www.americanas.com.br/produto/4540396296   \n",
       "3    https://www.americanas.com.br/produto/4540396296   \n",
       "4    https://www.americanas.com.br/produto/4511090415   \n",
       "..                                                ...   \n",
       "75   https://www.americanas.com.br/produto/4782017527   \n",
       "76   https://www.americanas.com.br/produto/4782017527   \n",
       "77  https://www.amazon.com.br/Smartphone-Multilase...   \n",
       "78  https://www.amazon.com.br/Smartphone-Xiaomi-Re...   \n",
       "79  https://www.amazon.com.br/Smartphone-Xiaomi-Re...   \n",
       "\n",
       "                                                url_2  \n",
       "0   https://www.amazon.com.br/Iphone-Apple-Prata-5...  \n",
       "1    https://www.americanas.com.br/produto/4431267188  \n",
       "2    https://www.americanas.com.br/produto/4511090415  \n",
       "3   https://www.amazon.com.br/Smartphone-Poco-PRO-...  \n",
       "4   https://www.amazon.com.br/Smartphone-Poco-PRO-...  \n",
       "..                                                ...  \n",
       "75  https://www.amazon.com.br/Smartphone-Multilase...  \n",
       "76  https://www.amazon.com.br/Smartphone-Multilase...  \n",
       "77  https://www.amazon.com.br/Smartphone-Multilase...  \n",
       "78   https://www.americanas.com.br/produto/4820569930  \n",
       "79   https://www.americanas.com.br/produto/4604449327  \n",
       "\n",
       "[80 rows x 10 columns]"
      ]
     },
     "execution_count": 18,
     "metadata": {},
     "output_type": "execute_result"
    }
   ],
   "source": [
    "#df_pares[df_pares['ean_1']==\"6934177738180\"][['descricao_1', 'ean_1', 'titulo_1', 'descricao_2', 'ean_2', 'titulo_2', 'loja_1', 'loja_2', 'url_1', 'url_2']]\n",
    "df_pares[['descricao_1', 'ean_1', 'titulo_1', 'descricao_2', 'ean_2', 'titulo_2', 'loja_1', 'loja_2', 'url_1', 'url_2']]"
   ]
  },
  {
   "cell_type": "markdown",
   "metadata": {},
   "source": [
    "## Salvando Pares"
   ]
  },
  {
   "cell_type": "code",
   "execution_count": null,
   "metadata": {},
   "outputs": [],
   "source": [
    "df_pares.to_csv(f\"Dados/pares_smartphones.csv\", index = False)"
   ]
  }
 ],
 "metadata": {
  "interpreter": {
   "hash": "0436a357412b3c62bf6f7908dd6213b8b325d5ab2eed44492350d79a1fca577a"
  },
  "kernelspec": {
   "display_name": "Python 3.9.7 ('data_science')",
   "language": "python",
   "name": "python3"
  },
  "language_info": {
   "codemirror_mode": {
    "name": "ipython",
    "version": 3
   },
   "file_extension": ".py",
   "mimetype": "text/x-python",
   "name": "python",
   "nbconvert_exporter": "python",
   "pygments_lexer": "ipython3",
   "version": "3.9.7"
  },
  "orig_nbformat": 4
 },
 "nbformat": 4,
 "nbformat_minor": 2
}
